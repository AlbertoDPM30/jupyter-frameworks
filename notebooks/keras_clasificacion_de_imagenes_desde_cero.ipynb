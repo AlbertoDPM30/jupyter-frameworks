{
 "cells": [
  {
   "cell_type": "markdown",
   "id": "bd0dce6f",
   "metadata": {},
   "source": [
    "# Clasificación de imagenes desde cero"
   ]
  },
  {
   "cell_type": "markdown",
   "id": "00ec45cd",
   "metadata": {},
   "source": [
    "## Introducción\n",
    "\n",
    "Este ejemplo muestra cómo realizar clasificación de imágenes desde cero, comenzando con archivos de imagen JPEG en el disco, sin aprovechar pesos pre-entrenados o un modelo de aplicación Keras prefabricado. Demostramos el flujo de trabajo en el conjunto de datos de clasificación binaria Kaggle Cats vs Dogs (Gatos contra Perros).\n",
    "Utilizamos la utilidad <code>image_dataset_from_directory</code> para generar los conjuntos de datos y empleamos capas de preprocesamiento de imágenes de Keras para la estandarización de imágenes y el aumento de datos."
   ]
  }
 ],
 "metadata": {
  "language_info": {
   "name": "python"
  }
 },
 "nbformat": 4,
 "nbformat_minor": 5
}
