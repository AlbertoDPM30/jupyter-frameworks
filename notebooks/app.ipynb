{
 "cells": [
  {
   "cell_type": "markdown",
   "id": "e89de8f1",
   "metadata": {},
   "source": [
    "# Diferencias entre Framework's y Bibliotecas (Librería)"
   ]
  },
  {
   "cell_type": "markdown",
   "id": "ee2b65c1",
   "metadata": {},
   "source": [
    "## 1. Biblioteca (Librería):"
   ]
  },
  {
   "cell_type": "markdown",
   "id": "00993704",
   "metadata": {},
   "source": [
    "### ¿Qué es?: <br>\n",
    "Son colecciones de código reutilizable encapsulado en funciones, clases o módulos. Donde El desarrollador las importa directamente en puntos específicos de su código y no imponen ninguna estrucructura ya que se integran en el flujo natural del programa"
   ]
  },
  {
   "cell_type": "code",
   "execution_count": null,
   "id": "bcc0af02",
   "metadata": {},
   "outputs": [],
   "source": [
    "# Ejemplo de importación:\n",
    "import pandas as pd"
   ]
  },
  {
   "cell_type": "markdown",
   "id": "53f143de",
   "metadata": {},
   "source": [
    "### Características Técnicas: <br>\n",
    "Las librerías tienen un acoplamiento bajo, por lo cual son independientes del proyecto principal. Por ejemplo: <code>Pandas</code>, que puede usarse en un Script pequeño o en una aplicación empresarial son afectar la arquitectura.\n",
    "Otra característica es sus dependencias, las cuales son explícitas ya que el desarrollador tiene la libertad de decidir qué partes de la librería usar y cuando actualizarlas usando nuevamente de ejemplo <code>Pandas</code>, si una actualización genera errores, el desarrollador puede mantener una versión anterior."
   ]
  },
  {
   "cell_type": "markdown",
   "id": "30060d05",
   "metadata": {},
   "source": [
    "### Casos de uso:"
   ]
  },
  {
   "cell_type": "markdown",
   "id": "4cc7c7fb",
   "metadata": {},
   "source": [
    "*Problemas específicos:*\n",
    "- Manipulación de datos: <code>NumPy</code>\n",
    "- Peticiones HTTP: <code>Axios</code>, <code>Fetch API</code>\n",
    "- Generación de gráficos: <code>Matplolib</code>"
   ]
  },
  {
   "cell_type": "markdown",
   "id": "f3dbc0c5",
   "metadata": {},
   "source": [
    "*Proyectos Modulares*\n",
    "- Cuando se busca evitar \"Bloat\" (Código innecesario)."
   ]
  },
  {
   "cell_type": "markdown",
   "id": "b7739740",
   "metadata": {},
   "source": [
    "<hr>"
   ]
  },
  {
   "cell_type": "markdown",
   "id": "4bb223b2",
   "metadata": {},
   "source": [
    "### Ejemplos de librerías:"
   ]
  },
  {
   "cell_type": "markdown",
   "id": "d651cfb9",
   "metadata": {},
   "source": [
    "### a. React (Librería JS y TS):"
   ]
  },
  {
   "cell_type": "markdown",
   "id": "ebc5f07c",
   "metadata": {},
   "source": [
    "**React** es una biblioteca de **JavaScript** de código abierto diseñada para crear **interfaces de usuario**. Es mantenida por **Facebook** y permite desarrollar aplicaciones web de una sola página de manera eficiente. React es popular entre los desarrolladores porque facilita la creación de interfaces interactivas y reactivas, actualizando automáticamente el contenido cuando cambian los datos."
   ]
  },
  {
   "cell_type": "code",
   "execution_count": null,
   "id": "20d2405a",
   "metadata": {
    "vscode": {
     "languageId": "javascript"
    }
   },
   "outputs": [],
   "source": [
    "/* App.js */\n",
    "\n",
    "function Greeting({ name }) {\n",
    "  return <h1>Hello, {name}</h1>;\n",
    "}\n",
    "\n",
    "export default function App() {\n",
    "  return <Greeting name=\"world\" />\n",
    "}"
   ]
  },
  {
   "cell_type": "markdown",
   "id": "3383c7cf",
   "metadata": {},
   "source": [
    "#### Creación y anidamiento de componentes:\n",
    "Las aplicaciones React están hechas de componentes. Un componente es una parte de la UI (interfaz de usuario) que tiene su propia lógica y apariencia. Un componente puede ser tan pequeño como un botón o tan grande como una página completa.\n",
    "<br><br>\n",
    "Los componentes de React son funciones de JavaScript que devuelven marcado:"
   ]
  },
  {
   "cell_type": "code",
   "execution_count": null,
   "id": "b0163424",
   "metadata": {
    "vscode": {
     "languageId": "javascript"
    }
   },
   "outputs": [],
   "source": [
    "/* COMPONENTE MyButton */\n",
    "\n",
    "function MyButton() {\n",
    "  return (\n",
    "    <button>\n",
    "      I'm a button\n",
    "    </button>\n",
    "  );\n",
    "}\n",
    "\n",
    "/* App.js */\n",
    "\n",
    "export default function MyApp() {\n",
    "  return (\n",
    "    <div>\n",
    "      <h1>Welcome to my app</h1>\n",
    "      <MyButton />\n",
    "    </div>\n",
    "  );\n",
    "}"
   ]
  },
  {
   "cell_type": "markdown",
   "id": "7a8cbf0c",
   "metadata": {},
   "source": [
    "#### JSX\n",
    "JSX es una extensión de la sintaxis de JavaScript utilizada en la creación de elementos de React. Los desarrolladores la emplean para incrustar código HTML en objetos JavaScript. Ya que JSX acepta expresiones válidas de JavaScript e incrustación de funciones, puede simplificar las estructuras de código complejas."
   ]
  },
  {
   "cell_type": "code",
   "execution_count": null,
   "id": "ba6f3438",
   "metadata": {
    "vscode": {
     "languageId": "javascript"
    }
   },
   "outputs": [],
   "source": [
    "const name = 'John Smith';\n",
    "const element = <h1>Hola, {nombre}</h1>;\n",
    "\n",
    "ReactDOM.render(\n",
    "    element,\n",
    "    document.getElementById('root')\n",
    ");"
   ]
  },
  {
   "cell_type": "markdown",
   "id": "2720be45",
   "metadata": {},
   "source": [
    "#### Gestión de Estado\n",
    "Un estado es un objeto JavaScript que representa una parte de un componente. Cambia cada vez que un usuario interactúa con la aplicación, renderizando una nueva interfaz de cliente para reflejar las modificaciones.\n",
    "\n",
    "La gestión de estados se refiere a la práctica de gestionar los estados de la aplicación React. Incluye el almacenamiento de datos en librerías de gestión de estados de terceros y la activación del proceso de re-renderización cada vez que los datos cambian."
   ]
  },
  {
   "cell_type": "code",
   "execution_count": null,
   "id": "7260537a",
   "metadata": {
    "vscode": {
     "languageId": "javascript"
    }
   },
   "outputs": [],
   "source": [
    "import React, { useState } from 'react';\n",
    "\n",
    "function Counter() {\n",
    "\n",
    "    const [count, setCount] = useState(0);\n",
    "\n",
    "    return (\n",
    "        <div>\n",
    "            <p>You clicked {count} times</p>\n",
    "            <button onClick={() => setCount(count + 1)}>\n",
    "                Click me\n",
    "            </button>\n",
    "        </div>\n",
    "    );\n",
    "}\n",
    "\n",
    "export default Counter;"
   ]
  },
  {
   "cell_type": "markdown",
   "id": "7a848584",
   "metadata": {},
   "source": [
    "<hr>"
   ]
  },
  {
   "cell_type": "markdown",
   "id": "544c4690",
   "metadata": {},
   "source": [
    "### b. TensorFlow:"
   ]
  },
  {
   "cell_type": "markdown",
   "id": "7b58e907",
   "metadata": {},
   "source": [
    "**TensorFlow** es una **biblioteca de código abierto** creada por Google para desarrollar e implementar modelos de **aprendizaje automático** y **redes neuronales**. Su objetivo es ayudar a los desarrolladores a crear sistemas inteligentes que puedan **reconocer patrones**, realizar **predicciones** y **tomar decisiones basadas en datos**. TensorFlow permite el entrenamiento y la implementación de modelos de forma sencilla, ya sea en servidores o en la web.\n",
    "\n",
    "En esencia, TensorFlow te permite:\n",
    "\n",
    "- **Definir y entrenar modelos de aprendizaje automático:** Desde redes neuronales profundas hasta modelos de regresión lineal.\n",
    "- **Manejar grandes conjuntos de datos:** Optimizado para trabajar eficientemente con cantidades masivas de información.\n",
    "- **Implementar modelos en diversas plataformas:** Desde servidores y la nube hasta dispositivos móviles y sistemas embebidos.\n",
    "- **Acelerar los cálculos:** Utiliza la potencia de las Unidades de Procesamiento Gráfico (GPUs) y las Unidades de Procesamiento Tensoriales (TPUs) para entrenamientos más rápidos."
   ]
  },
  {
   "cell_type": "markdown",
   "id": "17dd2842",
   "metadata": {},
   "source": [
    "#### Pilares Fundamentales de TensorFlow:"
   ]
  },
  {
   "cell_type": "markdown",
   "id": "b7ca8a83",
   "metadata": {},
   "source": [
    "*I. Tensores:*\n",
    "\n",
    "- Un **tensor** es la unidad fundamental de datos en TensorFlow. Como un arreglo multidimensional de números.\n",
    "- **Rango (número de dimensiones):** Define la estructura del tensor por medio de: *Escalar (Rango 0):* Un solo número (<code>3.14</code>), *Vector (Rango 1):* Un arreglo de números (<code>[1, 2, 3]</code>), *Matriz (rango 2):* Un arreglo bidimensional de números (<code>[[1, 2], [3, 4]]</code>). Y así sucesivamente para dimensiones superiores.\n",
    "- **Forma (Shape):** Especifica el número de elementos en cada dimensión (ej: la forma de una matriz de 2x3 es <code>(2, 3)</code>).\n",
    "- Tipo de Datos (dtype): Define el tipo de datos almacenados en el tensor (<code>float32</code>, <code>int32</code>, <code>string</code>)"
   ]
  },
  {
   "cell_type": "code",
   "execution_count": null,
   "id": "89525f62",
   "metadata": {},
   "outputs": [],
   "source": [
    "import tensorflow as tf\n",
    "\n",
    "# Escalar (rango 0)\n",
    "scalar = tf.constant(5)\n",
    "print(f\"Escalar: {scalar}, Rango: {tf.rank(scalar).numpy()}, Forma: {scalar.shape}\")\n",
    "\n",
    "# Vector (rango 1)\n",
    "vector = tf.constant([1, 2, 3])\n",
    "print(f\"Vector: {vector}, Rango: {tf.rank(vector).numpy()}, Forma: {vector.shape}\")\n",
    "\n",
    "# Matriz (rango 2)\n",
    "matrix = tf.constant([[1, 2], [3, 4]])\n",
    "print(f\"Matriz: {matrix}, Rango: {tf.rank(matrix).numpy()}, Forma: {matrix.shape}\")"
   ]
  },
  {
   "cell_type": "markdown",
   "id": "64f30839",
   "metadata": {},
   "source": [
    "*II. Grafos Computacionales:*\n",
    "<br><br>\n",
    "TensorFlow se basa en la idea de grafos computacionales. Un grafo es una estructura que representa operaciones matemáticas como nodos y los tensores como los bordes (flujos de datos) entre estos nodos.\n",
    "- **Nodos (Operaciones):** Representan las operaciones matemáticas que se realizarán (ej: suma, multiplicación, activación).\n",
    "- **Aristas (Tensores):** Representan los datos que fluyen entre las operaciones.\n",
    "<br><br>\n",
    "Esta abstracción permite a TensorFlow optimizar la ejecución de los cálculos, especialmente en hardware paralelo como GPUs y TPUs."
   ]
  },
  {
   "cell_type": "markdown",
   "id": "17458064",
   "metadata": {},
   "source": [
    "*III. Variables:*\n",
    "<br><br>\n",
    "A diferencia de los tensores constantes (<code>tf.constant</code>), **las variables** (<code>tf.Variable</code>) son tensores que pueden cambiar su valor durante el entrenamiento del modelo. Y se utilizan para almacenar los parámetros aprendibles del modelo, como los pesos y los sesgos en una red neuronal."
   ]
  },
  {
   "cell_type": "code",
   "execution_count": null,
   "id": "3d2f58a8",
   "metadata": {},
   "outputs": [],
   "source": [
    "# Creando una variable\n",
    "initial_value = tf.constant([[1.0, 2.0], [3.0, 4.0]])\n",
    "variable = tf.Variable(initial_value)\n",
    "print(f\"Variable inicial: {variable}\")\n",
    "\n",
    "# Modificando el valor de la variable\n",
    "variable.assign([[5.0, 6.0], [7.0, 8.0]])\n",
    "print(f\"Variable modificada: {variable}\")"
   ]
  },
  {
   "cell_type": "markdown",
   "id": "80113af9",
   "metadata": {},
   "source": [
    "*IV. Operaciones (Ops):*\n",
    "<br><br>\n",
    "Las **operaciones** (<code>tf.operations</code>) son funciones que manipulan los tensores. TensorFlow proporciona una amplia gama de operaciones para realizar cálculos matemáticos, transformaciones de datos, operaciones de control de flujo, etc.\n",
    "<br>\n",
    "Ejemplos comunes incluyen <code>tf.add()</code>, <code>tf.matmul()</code> (multiplicación de matrices), <code>tf.nn.relu()</code> (función de activación ReLU)."
   ]
  },
  {
   "cell_type": "code",
   "execution_count": null,
   "id": "3c8c974e",
   "metadata": {},
   "outputs": [],
   "source": [
    "a = tf.constant(5)\n",
    "b = tf.constant(3)\n",
    "suma = tf.add(a, b)\n",
    "print(f\"Suma: {suma.numpy()}\")\n",
    "\n",
    "x = tf.constant([[1, 2], [3, 4]])\n",
    "y = tf.constant([[5, 6], [7, 8]])\n",
    "producto = tf.matmul(x, y)\n",
    "print(f\"Producto matricial: {producto.numpy()}\")"
   ]
  },
  {
   "cell_type": "markdown",
   "id": "eeeadd2b",
   "metadata": {},
   "source": [
    "#### Características Avanzadas de TensorFlow\n",
    "Más allá de los conceptos básicos, TensorFlow ofrece una amplia gama de características avanzadas:"
   ]
  },
  {
   "cell_type": "markdown",
   "id": "87f42d26",
   "metadata": {},
   "source": [
    "- **Autograd (Diferenciación Automática):** TensorFlow puede calcular automáticamente los gradientes de las funciones, lo cual es fundamental para el algoritmo de backpropagation utilizado en el entrenamiento de redes neuronales. Esto se realiza mediante el seguimiento de las operaciones en un \"tape\" durante el cálculo."
   ]
  },
  {
   "cell_type": "code",
   "execution_count": null,
   "id": "c89114ca",
   "metadata": {},
   "outputs": [],
   "source": [
    "x = tf.Variable(3.0)\n",
    "with tf.GradientTape() as tape:\n",
    "    y = x**2\n",
    "gradient = tape.gradient(y, x)\n",
    "print(f\"Gradiente de y con respecto a x: {gradient.numpy()}\")"
   ]
  },
  {
   "cell_type": "markdown",
   "id": "f7d4ea0f",
   "metadata": {},
   "source": [
    "- <code>tf.data</code> **API**: Una potente API para construir pipelines de datos eficientes para alimentar los modelos durante el entrenamiento. Permite cargar, transformar y preprocesar grandes conjuntos de datos de manera optimizada.\n",
    "<br><br>\n",
    "- <code>tf.function</code>: Un decorador que compila funciones de Python en grafos de TensorFlow optimizados, lo que puede mejorar significativamente el rendimiento de la ejecución.\n",
    "<br><br>\n",
    "- **TensorFlow Hub:** Un repositorio de modelos pre-entrenados que se pueden reutilizar o adaptar para nuevas tareas, lo que acelera el desarrollo y reduce la necesidad de entrenar modelos desde cero.\n",
    "<br><br>\n",
    "- **TensorFlow Lite:** Una versión ligera de TensorFlow diseñada para la implementación de modelos en dispositivos móviles y sistemas embebidos con recursos limitados.\n",
    "<br><br>\n",
    "- **TensorFlow.js:** Permite ejecutar modelos de TensorFlow directamente en el navegador web o en Node.js.\n",
    "<br><br>\n",
    "- **TPU Support:** Optimización para las Unidades de Procesamiento Tensoriales de Google Cloud, que ofrecen una aceleración masiva para tareas de aprendizaje profundo."
   ]
  },
  {
   "cell_type": "markdown",
   "id": "a5af55ba",
   "metadata": {},
   "source": [
    "<hr>"
   ]
  },
  {
   "cell_type": "markdown",
   "id": "5c3131e8",
   "metadata": {},
   "source": [
    "### c. Deep Java Library (DJL)"
   ]
  },
  {
   "cell_type": "markdown",
   "id": "8a59b69f",
   "metadata": {},
   "source": [
    "es una **biblioteca de aprendizaje profundo** de código abierto desarrollada por Amazon AI. Su objetivo principal es proporcionar una **API de alto nivel y fácil de usar** para que los desarrolladores de Java puedan construir, entrenar e implementar modelos de aprendizaje profundo sin necesidad de tener un conocimiento profundo de los frameworks de backend subyacentes."
   ]
  },
  {
   "cell_type": "markdown",
   "id": "f497c371",
   "metadata": {},
   "source": [
    "#### Puntos clave que definen a DJL:"
   ]
  },
  {
   "cell_type": "markdown",
   "id": "ff88dc3e",
   "metadata": {},
   "source": [
    "- **Independencia del Backend:** DJL está construido sobre una interfaz flexible que le permite interactuar con múltiples engines de aprendizaje profundo populares como **Apache MXNet, PyTorch y TensorFlow.** Esto significa que puedes escribir tu código en Java utilizando la API de DJL y luego elegir el backend que mejor se adapte a tus necesidades en términos de rendimiento, disponibilidad de hardware o familiaridad.\n",
    "<br><br>\n",
    "- **API Intuitiva para Desarrolladores Java:** DJL se esfuerza por ofrecer una API que se sienta natural para los desarrolladores de Java, utilizando conceptos y patrones comunes en el ecosistema Java. Esto facilita la adopción del aprendizaje profundo por parte de los programadores de Java.\n",
    "<br><br>\n",
    "- **Soporte para Tareas Comunes de Deep Learning:** DJL proporciona herramientas y abstracciones para una amplia gama de tareas de aprendizaje profundo, incluyendo visión por computadora, procesamiento de lenguaje natural, y más.\n",
    "<br><br>\n",
    "- **Integración con el Ecosistema Java:** DJL se integra perfectamente con otras bibliotecas y herramientas de Java, como Maven, Gradle, Spring y Hadoop.\n",
    "<br><br>\n",
    "- **Rendimiento:** Si bien la abstracción introduce una capa adicional, DJL está diseñado para ser eficiente y aprovecha las optimizaciones de los backends subyacentes, incluyendo el uso de GPUs."
   ]
  },
  {
   "cell_type": "markdown",
   "id": "d463cfda",
   "metadata": {},
   "source": [
    "####  Componentes Fundamentales de DJL:"
   ]
  },
  {
   "cell_type": "markdown",
   "id": "232f5d76",
   "metadata": {},
   "source": [
    "*I. EngineProvider y Engine:*\n",
    "<br><br>\n",
    "El <code>EngineProvider</code> es una interfaz que permite a DJL descubrir e inicializar los diferentes backends de aprendizaje profundo instalados en el sistema.\n",
    "<br>\n",
    "El <code>Engine</code> representa el backend de aprendizaje profundo específico que se está utilizando (por ejemplo, MXNet, PyTorch o TensorFlow). DJL proporciona una forma uniforme de interactuar con estos diferentes engines a través de su API.\n",
    "<br>\n",
    "Al ejecutar una aplicación DJL, intentará automáticamente encontrar un engine disponible. Puedes especificar un engine en particular si lo deseas."
   ]
  },
  {
   "cell_type": "markdown",
   "id": "663e1f0e",
   "metadata": {},
   "source": [
    "*II. NDArray:*\n",
    "<br><br>\n",
    "<code>NDArray</code> (N-Dimensional Array) es la estructura de datos fundamental en DJL, similar a los tensores en TensorFlow o los arrays en NumPy. Representa un arreglo multidimensional de valores numéricos.\n",
    "<br>\n",
    "Al igual que los tensores, los <code>NDArray</code> tienen una forma (shape) que define sus dimensiones y un tipo de datos (dtype).\n",
    "<br>\n",
    "Las operaciones matemáticas y de manipulación de datos en DJL se realizan principalmente sobre objetos <code>NDArray</code>."
   ]
  },
  {
   "cell_type": "code",
   "execution_count": null,
   "id": "56f7d270",
   "metadata": {
    "vscode": {
     "languageId": "java"
    }
   },
   "outputs": [],
   "source": [
    "import ai.djl.ndarray.NDArray;\n",
    "import ai.djl.ndarray.NDManager;\n",
    "\n",
    "public class NDArrayExample {\n",
    "    public static void main(String[] args) {\n",
    "        try (NDManager manager = NDManager.newBaseManager()) {\n",
    "            // Creando un escalar (rango 0)\n",
    "            NDArray scalar = manager.create(5.0f);\n",
    "            System.out.println(\"Escalar: \" + scalar);\n",
    "            System.out.println(\"Forma: \" + scalar.getShape());\n",
    "\n",
    "            // Creando un vector (rango 1)\n",
    "            NDArray vector = manager.create(new float[]{1, 2, 3});\n",
    "            System.out.println(\"Vector: \" + vector);\n",
    "            System.out.println(\"Forma: \" + vector.getShape());\n",
    "\n",
    "            // Creando una matriz (rango 2)\n",
    "            NDArray matrix = manager.create(new float[][]{{1, 2}, {3, 4}});\n",
    "            System.out.println(\"Matriz: \" + matrix);\n",
    "            System.out.println(\"Forma: \" + matrix.getShape());\n",
    "        }\n",
    "    }\n",
    "}"
   ]
  },
  {
   "cell_type": "markdown",
   "id": "08c789bd",
   "metadata": {},
   "source": [
    "*III. Model:*\n",
    "<br><br>\n",
    "La interfaz <code>Model</code> en DJL abstrae un modelo de aprendizaje profundo. Contiene la lógica de la red neuronal y sus parámetros aprendidos. Un modelo en DJL se puede cargar desde un archivo pre-entrenado (en formatos compatibles con los backends subyacentes) o se puede definir y entrenar desde cero utilizando las API de DJL."
   ]
  },
  {
   "cell_type": "markdown",
   "id": "32a8e183",
   "metadata": {},
   "source": [
    "*IV. Block:*\n",
    "<br><br>\n",
    "Un <code>Block</code> es una interfaz que representa un bloque de construcción de una red neuronal, como una capa convolucional, una capa densa, una función de activación, etc. Los modelos se construyen ensamblando diferentes bloques en una estructura jerárquica. DJL proporciona una variedad de bloques predefinidos y también permite crear bloques personalizados."
   ]
  },
  {
   "cell_type": "code",
   "execution_count": null,
   "id": "f31faeca",
   "metadata": {
    "vscode": {
     "languageId": "java"
    }
   },
   "outputs": [],
   "source": [
    "import ai.djl.Model;\n",
    "import ai.djl.basicmodelzoo.basic.Linear;\n",
    "import ai.djl.ndarray.NDManager;\n",
    "import ai.djl.nn.SequentialBlock;\n",
    "\n",
    "public class ModelExample {\n",
    "    public static void main(String[] args) {\n",
    "        try (NDManager manager = NDManager.newBaseManager();\n",
    "            Model model = Model.newInstance(\"simple_linear\")) {\n",
    "\n",
    "            // Creando un modelo secuencial simple\n",
    "            SequentialBlock block = new SequentialBlock()\n",
    "                    .add(Linear.builder().setUnits(10).build()); // Capa lineal con 10 unidades\n",
    "\n",
    "            // Asignando el bloque al modelo\n",
    "            model.setBlock(block);\n",
    "\n",
    "            System.out.println(\"Modelo creado.\");\n",
    "        }\n",
    "    }\n",
    "}"
   ]
  },
  {
   "cell_type": "markdown",
   "id": "fc2c777e",
   "metadata": {},
   "source": [
    "*V. Trainer:*\n",
    "<br><br>\n",
    "El <code>Trainer</code> es la clase responsable de entrenar un modelo. Proporciona métodos para realizar el forward pass, calcular la pérdida, calcular los gradientes y actualizar los parámetros del modelo utilizando un optimizador. El <code>Trainer</code> requiere una configuración que incluye el optimizador, la función de pérdida y las métricas de evaluación."
   ]
  },
  {
   "cell_type": "markdown",
   "id": "f5af0325",
   "metadata": {},
   "source": [
    "*VI. Predictor:*\n",
    "<br><br>\n",
    "El <code>Predictor</code> se utiliza para realizar inferencia con un modelo entrenado. Toma una entrada y produce una salida basada en el conocimiento aprendido por el modelo. El <code>Predictor</code> simplifica el proceso de obtener predicciones para nuevas instancias de datos."
   ]
  },
  {
   "cell_type": "markdown",
   "id": "6658ea9c",
   "metadata": {},
   "source": [
    "#### Construcción de Modelos con DJL\n",
    "DJL ofrece varias formas de construir modelos:"
   ]
  },
  {
   "cell_type": "markdown",
   "id": "45cd4e51",
   "metadata": {},
   "source": [
    "I. **Usando Bloques Predefinidos:** DJL proporciona una colección de bloques comunes de redes neuronales que se pueden ensamblar fácilmente."
   ]
  },
  {
   "cell_type": "code",
   "execution_count": null,
   "id": "58370d89",
   "metadata": {
    "vscode": {
     "languageId": "java"
    }
   },
   "outputs": [],
   "source": [
    "import ai.djl.Model;\n",
    "import ai.djl.ndarray.NDManager;\n",
    "import ai.djl.nn.SequentialBlock;\n",
    "import ai.djl.nn.convolutional.Conv2d;\n",
    "import ai.djl.nn.core.Linear;\n",
    "import ai.djl.nn.pooling.MaxPool2d;\n",
    "import ai.djl.nn.relu.Relu;\n",
    "\n",
    "public class CNNModel {\n",
    "    public static void main(String[] args) {\n",
    "        try (NDManager manager = NDManager.newBaseManager();\n",
    "            Model model = Model.newInstance(\"cnn\")) {\n",
    "\n",
    "            SequentialBlock block = new SequentialBlock()\n",
    "                    .add(Conv2d.builder().setFilters(32).setKernelShape(new int[]{3, 3}).build())\n",
    "                    .add(new Relu())\n",
    "                    .add(MaxPool2d.builder().setKernelShape(new int[]{2, 2}).setStride(new int[]{2, 2}).build())\n",
    "                    .add(Conv2d.builder().setFilters(64).setKernelShape(new int[]{3, 3}).build())\n",
    "                    .add(new Relu())\n",
    "                    .add(MaxPool2d.builder().setKernelShape(new int[]{2, 2}).setStride(new int[]{2, 2}).build())\n",
    "                    // ... más capas ...\n",
    "                    .add(new ai.djl.nn.Flatten())\n",
    "                    .add(Linear.builder().setUnits(128).build())\n",
    "                    .add(new Relu())\n",
    "                    .add(Linear.builder().setUnits(10).build()); // Capa de salida para 10 clases\n",
    "\n",
    "            model.setBlock(block);\n",
    "            System.out.println(\"Modelo CNN creado.\");\n",
    "        }\n",
    "    }\n",
    "}"
   ]
  },
  {
   "cell_type": "markdown",
   "id": "f4e2e4ef",
   "metadata": {},
   "source": [
    "II. **Definiendo Bloques Personalizados:** Para arquitecturas más complejas o específicas, puedes implementar tus propios bloques que extiendan la interfaz <code>Block</code>."
   ]
  },
  {
   "cell_type": "markdown",
   "id": "e8688117",
   "metadata": {},
   "source": [
    "#### Entrenamiento y Evaluación de Modelos\n",
    "El proceso de entrenamiento en DJL implica los siguientes pasos:"
   ]
  },
  {
   "cell_type": "markdown",
   "id": "455c5e1a",
   "metadata": {},
   "source": [
    "I. **Cargar Datos:** DJL proporciona utilidades para cargar y preprocesar datos.\n",
    "<br><br>\n",
    "II. **Crear un <code>Trainer</code>:** Configurar el optimizador, la función de pérdida y las métricas.\n",
    "<br><br>\n",
    "III. **Iterar sobre los Datos:** Para cada batch de datos:\n",
    "- Realizar el forward pass para obtener las predicciones.\n",
    "- Calcular la pérdida comparando las predicciones con las etiquetas reales.\n",
    "- Calcular los gradientes de la pérdida con respecto a los parámetros del modelo.\n",
    "- Actualizar los parámetros del modelo utilizando el optimizador.\n",
    "<br><br>\n",
    "IV. **Evaluar el Modelo:** Utilizar un conjunto de datos de prueba para medir el rendimiento del modelo utilizando las métricas definidas."
   ]
  },
  {
   "cell_type": "code",
   "execution_count": null,
   "id": "ce2ed318",
   "metadata": {
    "vscode": {
     "languageId": "java"
    }
   },
   "outputs": [],
   "source": [
    "import ai.djl.Model;\n",
    "import ai.djl.basicdataset.BasicDataset;\n",
    "import ai.djl.basicdataset.Mnist;\n",
    "import ai.djl.basicmodelzoo.basic.Linear;\n",
    "import ai.djl.engine.Engine;\n",
    "import ai.djl.metric.Metrics;\n",
    "import ai.djl.ndarray.NDList;\n",
    "import ai.djl.ndarray.NDManager;\n",
    "import ai.djl.nn.SequentialBlock;\n",
    "import ai.djl.training.DefaultTrainingConfig;\n",
    "import ai.djl.training.EasyTrain;\n",
    "import ai.djl.training.Trainer;\n",
    "import ai.djl.training.dataset.Dataset;\n",
    "import ai.djl.training.dataset.RandomAccessDataset;\n",
    "import ai.djl.training.evaluator.Accuracy;\n",
    "import ai.djl.training.listener.TrainingListener;\n",
    "import ai.djl.training.loss.Loss;\n",
    "import org.slf4j.Logger;\n",
    "import org.slf4j.LoggerFactory;\n",
    "\n",
    "import java.io.IOException;\n",
    "\n",
    "public class TrainingExample {\n",
    "\n",
    "    private static final Logger logger = LoggerFactory.getLogger(TrainingExample.class);\n",
    "\n",
    "    public static void main(String[] args) throws IOException, InterruptedException {\n",
    "        try (NDManager manager = NDManager.newBaseManager();\n",
    "            Model model = Model.newInstance(\"mlp\")) {\n",
    "\n",
    "            SequentialBlock block = new SequentialBlock()\n",
    "                    .add(Linear.builder().setUnits(128).build())\n",
    "                    .add(new ai.djl.nn.relu.Relu())\n",
    "                    .add(Linear.builder().setUnits(10).build());\n",
    "\n",
    "            model.setBlock(block);\n",
    "\n",
    "            RandomAccessDataset trainingSet = Mnist.builder()\n",
    "                    .optUsage(BasicDataset.Usage.TRAIN)\n",
    "                    .setSampling(128, true)\n",
    "                    .build();\n",
    "\n",
    "            RandomAccessDataset validateSet = Mnist.builder()\n",
    "                    .optUsage(BasicDataset.Usage.TEST)\n",
    "                    .setSampling(128, true)\n",
    "                    .build();\n",
    "\n",
    "            DefaultTrainingConfig config = new DefaultTrainingConfig(Loss.softmaxCrossEntropyLoss())\n",
    "                    .addEvaluator(new Accuracy())\n",
    "                    .addTrainingListeners(TrainingListener.Defaults.logging());\n",
    "\n",
    "            try (Trainer trainer = model.newTrainer(config)) {\n",
    "                trainer.initialize(trainingSet.getShape());\n",
    "                EasyTrain.fit(trainer, 5, trainingSet, validateSet);\n",
    "            }\n",
    "        }\n",
    "    }\n",
    "}"
   ]
  },
  {
   "cell_type": "markdown",
   "id": "f0ddb698",
   "metadata": {},
   "source": [
    "#### Inferencia con DJL\n",
    "Una vez que el modelo está entrenado, se puede utilizar para realizar predicciones sobre nuevos datos."
   ]
  },
  {
   "cell_type": "code",
   "execution_count": null,
   "id": "769d73ef",
   "metadata": {
    "vscode": {
     "languageId": "java"
    }
   },
   "outputs": [],
   "source": [
    "import ai.djl.Model;\n",
    "import ai.djl.basicdataset.cv.ImageFolder;\n",
    "import ai.djl.inference.Predictor;\n",
    "import ai.djl.modality.Classifications;\n",
    "import ai.djl.modality.cv.Image;\n",
    "import ai.djl.modality.cv.transform.Resize;\n",
    "import ai.djl.modality.cv.transform.ToTensor;\n",
    "import ai.djl.ndarray.NDArray;\n",
    "import ai.djl.ndarray.NDList;\n",
    "import ai.djl.ndarray.NDManager;\n",
    "import ai.djl.pipeline.ImageClassificationPipeline;\n",
    "import ai.djl.repository.zoo.Criteria;\n",
    "import ai.djl.repository.zoo.ZooModel;\n",
    "import ai.djl.translate.Pipeline;\n",
    "import ai.djl.translate.TranslateException;\n",
    "import ai.djl.translate.Translator;\n",
    "import ai.djl.translate.TranslatorContext;\n",
    "\n",
    "import java.io.IOException;\n",
    "import java.nio.file.Paths;\n",
    "import java.util.List;\n",
    "\n",
    "public class InferenceExample {\n",
    "    public static void main(String[] args) throws IOException, TranslateException {\n",
    "        Criteria<Image, Classifications> criteria = Criteria.builder()\n",
    "                .setTypes(Image.class, Classifications.class)\n",
    "                .optModelUrls(\"https://resources.djl.ai/demo/squeezenet/squeezenet_v1.1.zip\")\n",
    "                .optProgress(new ai.djl.training.util.ProgressBar())\n",
    "                .build();\n",
    "\n",
    "        try (ZooModel<Image, Classifications> model = criteria.loadModel();\n",
    "            Predictor<Image, Classifications> predictor = model.newPredictor()) {\n",
    "\n",
    "            Image image = ImageFolder.openImage(Paths.get(\"src/test/resources/kitten.jpg\"));\n",
    "\n",
    "            Classifications result = predictor.predict(image);\n",
    "            System.out.println(result);\n",
    "        }\n",
    "    }\n",
    "}"
   ]
  },
  {
   "cell_type": "markdown",
   "id": "c499d861",
   "metadata": {},
   "source": [
    "#### Características Avanzadas de DJL"
   ]
  },
  {
   "cell_type": "markdown",
   "id": "880c684c",
   "metadata": {},
   "source": [
    "- **Model Zoo:** DJL proporciona un \"Model Zoo\", un repositorio de modelos pre-entrenados para diversas tareas de aprendizaje profundo, lo que facilita la experimentación y la reutilización de modelos existentes.\n",
    "<br><br>\n",
    "- **Pipelines de Traducción:** DJL ofrece mecanismos para definir pipelines de preprocesamiento y postprocesamiento de datos para la inferencia.\n",
    "<br><br>\n",
    "- **Soporte para Formatos de Modelos:** DJL puede cargar modelos guardados en formatos nativos de los diferentes backends (por ejemplo, archivos <code>.pt</code> para PyTorch, archivos .<code>params</code> y <code>.json</code> para MXNet, SavedModel para TensorFlow).\n",
    "<br><br>\n",
    "- **Integración con Hardware Acelerado:** DJL aprovecha automáticamente las GPUs disponibles para acelerar el entrenamiento y la inferencia, dependiendo del backend utilizado y su configuración.\n",
    "<br><br>\n",
    "- **Portabilidad:** Al ser una biblioteca Java, las aplicaciones DJL pueden ejecutarse en cualquier plataforma donde Java sea compatible."
   ]
  },
  {
   "cell_type": "markdown",
   "id": "da2d23d0",
   "metadata": {},
   "source": [
    "<hr>"
   ]
  }
 ],
 "metadata": {
  "language_info": {
   "name": "python"
  }
 },
 "nbformat": 4,
 "nbformat_minor": 5
}
