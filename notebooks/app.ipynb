{
 "cells": [
  {
   "cell_type": "markdown",
   "id": "e89de8f1",
   "metadata": {},
   "source": [
    "# Diferencias entre Framework's y Librerías"
   ]
  },
  {
   "cell_type": "markdown",
   "id": "ee2b65c1",
   "metadata": {},
   "source": [
    "## 1. Biblioteca (Librería):"
   ]
  },
  {
   "cell_type": "markdown",
   "id": "00993704",
   "metadata": {},
   "source": [
    "### ¿Qué es?: <br>\n",
    "Son colecciones de código reutilizable encapsulado en funciones, clases o módulos. Donde El desarrollador las importa directamente en puntos específicos de su código y no imponen ninguna estrucructura ya que se integran en el flujo natural del programa"
   ]
  },
  {
   "cell_type": "code",
   "execution_count": null,
   "id": "bcc0af02",
   "metadata": {},
   "outputs": [],
   "source": [
    "# Ejemplo de importación:\n",
    "import pandas as pd"
   ]
  },
  {
   "cell_type": "markdown",
   "id": "53f143de",
   "metadata": {},
   "source": [
    "### Características Técnicas: <br>\n",
    "Las librerías tienen un acoplamiento bajo, por lo cual son independientes del proyecto principal. Por ejemplo: <code>Pandas</code>, que puede usarse en un Script pequeño o en una aplicación empresarial son afectar la arquitectura.\n",
    "Otra característica es sus dependencias, las cuales son explícitas ya que el desarrollador tiene la libertad de decidir qué partes de la librería usar y cuando actualizarlas usando nuevamente de ejemplo <code>Pandas</code>, si una actualización genera errores, el desarrollador puede mantener una versión anterior."
   ]
  },
  {
   "cell_type": "markdown",
   "id": "30060d05",
   "metadata": {},
   "source": [
    "### Casos de uso:"
   ]
  },
  {
   "cell_type": "markdown",
   "id": "4cc7c7fb",
   "metadata": {},
   "source": [
    "*Problemas específicos:*\n",
    "- Manipulación de datos: <code>NumPy</code>\n",
    "- Peticiones HTTP: <code>Axios</code>, <code>Fetch API</code>\n",
    "- Generación de gráficos: <code>Matplolib</code>"
   ]
  },
  {
   "cell_type": "markdown",
   "id": "f3dbc0c5",
   "metadata": {},
   "source": [
    "*Proyectos Modulares*\n",
    "- Cuando se busca evitar \"Bloat\" (Código innecesario)."
   ]
  },
  {
   "cell_type": "markdown",
   "id": "4bb223b2",
   "metadata": {},
   "source": [
    "### Ejemplos de librerías a Profundidad:"
   ]
  },
  {
   "cell_type": "markdown",
   "id": "d651cfb9",
   "metadata": {},
   "source": [
    "### a. React (Librería JS y TS):"
   ]
  },
  {
   "cell_type": "markdown",
   "id": "ebc5f07c",
   "metadata": {},
   "source": [
    "**React** es una biblioteca de **JavaScript** de código abierto diseñada para crear **interfaces de usuario**. Es mantenida por **Facebook** y permite desarrollar aplicaciones web de una sola página de manera eficiente. React es popular entre los desarrolladores porque facilita la creación de interfaces interactivas y reactivas, actualizando automáticamente el contenido cuando cambian los datos."
   ]
  },
  {
   "cell_type": "markdown",
   "id": "3383c7cf",
   "metadata": {},
   "source": [
    "#### Creación y anidamiento de componentes:\n",
    "Las aplicaciones React están hechas de componentes. Un componente es una parte de la UI (interfaz de usuario) que tiene su propia lógica y apariencia. Un componente puede ser tan pequeño como un botón o tan grande como una página completa.\n",
    "<br><br>\n",
    "Los componentes de React son funciones de JavaScript que devuelven marcado:"
   ]
  }
 ],
 "metadata": {
  "language_info": {
   "name": "python"
  }
 },
 "nbformat": 4,
 "nbformat_minor": 5
}
