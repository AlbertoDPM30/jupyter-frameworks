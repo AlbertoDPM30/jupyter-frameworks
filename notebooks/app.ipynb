{
 "cells": [
  {
   "cell_type": "markdown",
   "id": "e89de8f1",
   "metadata": {},
   "source": [
    "# Diferencias entre Framework's y Librerías"
   ]
  },
  {
   "cell_type": "markdown",
   "id": "ee2b65c1",
   "metadata": {},
   "source": [
    "### 1. Biblioteca (Librería):"
   ]
  },
  {
   "cell_type": "markdown",
   "id": "00993704",
   "metadata": {},
   "source": [
    "### ¿Qué es?: <br>\n",
    "Son colecciones de código reutilizable encapsulado en funciones, clases o módulos. Donde El desarrollador las importa directamente en puntos específicos de su código y no imponen ninguna estrucructura ya que se integran en el flujo natural del programa"
   ]
  },
  {
   "cell_type": "code",
   "execution_count": null,
   "id": "bcc0af02",
   "metadata": {},
   "outputs": [],
   "source": [
    "# Ejemplo de importación:\n",
    "import pandas as pd"
   ]
  },
  {
   "cell_type": "markdown",
   "id": "53f143de",
   "metadata": {},
   "source": [
    "### Características Técnicas: <br>\n",
    "Las librerías tienen un acoplamiento bajo, por lo cual son independientes del proyecto principal. Por ejemplo: <code>Pandas</code>, que puede usarse en un Script pequeño o en una aplicación empresarial son afectar la arquitectura.\n",
    "Otra característica es sus dependencias, las cuales son explícitas ya que el desarrollador tiene la libertad de decidir qué partes de la librería usar y cuando actualizarlas usando nuevamente de ejemplo <code>Pandas</code>, si una actualización genera errores, el desarrollador puede mantener una versión anterior."
   ]
  },
  {
   "cell_type": "markdown",
   "id": "30060d05",
   "metadata": {},
   "source": [
    "### Casos de uso especificos: <br>\n",
    "*Problemas específicos:*\n",
    "<ul>\n",
    "    <li>Manipulación de datos: <code>NumPy</code></li>\n",
    "    <li>Peticiones HTTP: <code>Axios</code>, <code>Fetch API</code></li>\n",
    "    <li>Generación de gráficos: <code>Matplolib</code></li>\n",
    "</ul>"
   ]
  }
 ],
 "metadata": {
  "language_info": {
   "name": "python"
  }
 },
 "nbformat": 4,
 "nbformat_minor": 5
}
