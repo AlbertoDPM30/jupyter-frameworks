{
 "cells": [
  {
   "cell_type": "markdown",
   "id": "e89de8f1",
   "metadata": {},
   "source": [
    "# Diferencias entre Framework's y Bibliotecas (Librería)"
   ]
  },
  {
   "cell_type": "markdown",
   "id": "ee2b65c1",
   "metadata": {},
   "source": [
    "## 1. Biblioteca (Librería):"
   ]
  },
  {
   "cell_type": "markdown",
   "id": "00993704",
   "metadata": {},
   "source": [
    "### ¿Qué es?: <br>\n",
    "Son colecciones de código reutilizable encapsulado en funciones, clases o módulos. Donde El desarrollador las importa directamente en puntos específicos de su código y no imponen ninguna estrucructura ya que se integran en el flujo natural del programa"
   ]
  },
  {
   "cell_type": "code",
   "execution_count": null,
   "id": "bcc0af02",
   "metadata": {},
   "outputs": [],
   "source": [
    "# Ejemplo de importación:\n",
    "import pandas as pd"
   ]
  },
  {
   "cell_type": "markdown",
   "id": "53f143de",
   "metadata": {},
   "source": [
    "### Características Técnicas: <br>\n",
    "Las librerías tienen un acoplamiento bajo, por lo cual son independientes del proyecto principal. Por ejemplo: <code>Pandas</code>, que puede usarse en un Script pequeño o en una aplicación empresarial son afectar la arquitectura.\n",
    "Otra característica es sus dependencias, las cuales son explícitas ya que el desarrollador tiene la libertad de decidir qué partes de la librería usar y cuando actualizarlas usando nuevamente de ejemplo <code>Pandas</code>, si una actualización genera errores, el desarrollador puede mantener una versión anterior."
   ]
  },
  {
   "cell_type": "markdown",
   "id": "30060d05",
   "metadata": {},
   "source": [
    "### Casos de uso:"
   ]
  },
  {
   "cell_type": "markdown",
   "id": "4cc7c7fb",
   "metadata": {},
   "source": [
    "*Problemas específicos:*\n",
    "- Manipulación de datos: <code>NumPy</code>\n",
    "- Peticiones HTTP: <code>Axios</code>, <code>Fetch API</code>\n",
    "- Generación de gráficos: <code>Matplolib</code>"
   ]
  },
  {
   "cell_type": "markdown",
   "id": "f3dbc0c5",
   "metadata": {},
   "source": [
    "*Proyectos Modulares*\n",
    "- Cuando se busca evitar \"Bloat\" (Código innecesario)."
   ]
  },
  {
   "cell_type": "markdown",
   "id": "b7739740",
   "metadata": {},
   "source": [
    "<hr>"
   ]
  },
  {
   "cell_type": "markdown",
   "id": "4bb223b2",
   "metadata": {},
   "source": [
    "### Ejemplos de librerías:"
   ]
  },
  {
   "cell_type": "markdown",
   "id": "d651cfb9",
   "metadata": {},
   "source": [
    "### a. React (Librería JS y TS):"
   ]
  },
  {
   "cell_type": "markdown",
   "id": "ebc5f07c",
   "metadata": {},
   "source": [
    "**React** es una biblioteca de **JavaScript** de código abierto diseñada para crear **interfaces de usuario**. Es mantenida por **Facebook** y permite desarrollar aplicaciones web de una sola página de manera eficiente. React es popular entre los desarrolladores porque facilita la creación de interfaces interactivas y reactivas, actualizando automáticamente el contenido cuando cambian los datos."
   ]
  },
  {
   "cell_type": "code",
   "execution_count": null,
   "id": "20d2405a",
   "metadata": {
    "vscode": {
     "languageId": "javascript"
    }
   },
   "outputs": [],
   "source": [
    "/* App.js */\n",
    "\n",
    "function Greeting({ name }) {\n",
    "  return <h1>Hello, {name}</h1>;\n",
    "}\n",
    "\n",
    "export default function App() {\n",
    "  return <Greeting name=\"world\" />\n",
    "}"
   ]
  },
  {
   "cell_type": "markdown",
   "id": "3383c7cf",
   "metadata": {},
   "source": [
    "#### Creación y anidamiento de componentes:\n",
    "Las aplicaciones React están hechas de componentes. Un componente es una parte de la UI (interfaz de usuario) que tiene su propia lógica y apariencia. Un componente puede ser tan pequeño como un botón o tan grande como una página completa.\n",
    "<br><br>\n",
    "Los componentes de React son funciones de JavaScript que devuelven marcado:"
   ]
  },
  {
   "cell_type": "code",
   "execution_count": null,
   "id": "b0163424",
   "metadata": {
    "vscode": {
     "languageId": "javascript"
    }
   },
   "outputs": [],
   "source": [
    "/* COMPONENTE MyButton */\n",
    "\n",
    "function MyButton() {\n",
    "  return (\n",
    "    <button>\n",
    "      I'm a button\n",
    "    </button>\n",
    "  );\n",
    "}\n",
    "\n",
    "/* App.js */\n",
    "\n",
    "export default function MyApp() {\n",
    "  return (\n",
    "    <div>\n",
    "      <h1>Welcome to my app</h1>\n",
    "      <MyButton />\n",
    "    </div>\n",
    "  );\n",
    "}"
   ]
  },
  {
   "cell_type": "markdown",
   "id": "7a8cbf0c",
   "metadata": {},
   "source": [
    "#### JSX\n",
    "JSX es una extensión de la sintaxis de JavaScript utilizada en la creación de elementos de React. Los desarrolladores la emplean para incrustar código HTML en objetos JavaScript. Ya que JSX acepta expresiones válidas de JavaScript e incrustación de funciones, puede simplificar las estructuras de código complejas."
   ]
  },
  {
   "cell_type": "code",
   "execution_count": null,
   "id": "ba6f3438",
   "metadata": {
    "vscode": {
     "languageId": "javascript"
    }
   },
   "outputs": [],
   "source": [
    "const name = 'John Smith';\n",
    "const element = <h1>Hola, {nombre}</h1>;\n",
    "\n",
    "ReactDOM.render(\n",
    "    element,\n",
    "    document.getElementById('root')\n",
    ");"
   ]
  },
  {
   "cell_type": "markdown",
   "id": "2720be45",
   "metadata": {},
   "source": [
    "#### Gestión de Estado\n",
    "Un estado es un objeto JavaScript que representa una parte de un componente. Cambia cada vez que un usuario interactúa con la aplicación, renderizando una nueva interfaz de cliente para reflejar las modificaciones.\n",
    "\n",
    "La gestión de estados se refiere a la práctica de gestionar los estados de la aplicación React. Incluye el almacenamiento de datos en librerías de gestión de estados de terceros y la activación del proceso de re-renderización cada vez que los datos cambian."
   ]
  },
  {
   "cell_type": "code",
   "execution_count": null,
   "id": "7260537a",
   "metadata": {
    "vscode": {
     "languageId": "javascript"
    }
   },
   "outputs": [],
   "source": [
    "import React, { useState } from 'react';\n",
    "\n",
    "function Counter() {\n",
    "\n",
    "    const [count, setCount] = useState(0);\n",
    "\n",
    "    return (\n",
    "        <div>\n",
    "            <p>You clicked {count} times</p>\n",
    "            <button onClick={() => setCount(count + 1)}>\n",
    "                Click me\n",
    "            </button>\n",
    "        </div>\n",
    "    );\n",
    "}\n",
    "\n",
    "export default Counter;"
   ]
  },
  {
   "cell_type": "markdown",
   "id": "7a848584",
   "metadata": {},
   "source": [
    "<hr>"
   ]
  },
  {
   "cell_type": "markdown",
   "id": "544c4690",
   "metadata": {},
   "source": [
    "#### b. TensorFlow:"
   ]
  },
  {
   "cell_type": "markdown",
   "id": "7b58e907",
   "metadata": {},
   "source": [
    "**TensorFlow** es una **biblioteca de código abierto** creada por Google para desarrollar e implementar modelos de **aprendizaje automático** y **redes neuronales**. Su objetivo es ayudar a los desarrolladores a crear sistemas inteligentes que puedan **reconocer patrones**, realizar **predicciones** y **tomar decisiones basadas en datos**. TensorFlow permite el entrenamiento y la implementación de modelos de forma sencilla, ya sea en servidores o en la web.\n",
    "\n",
    "En esencia, TensorFlow te permite:\n",
    "\n",
    "- **Definir y entrenar modelos de aprendizaje automático:** Desde redes neuronales profundas hasta modelos de regresión lineal.\n",
    "- **Manejar grandes conjuntos de datos:** Optimizado para trabajar eficientemente con cantidades masivas de información.\n",
    "- **Implementar modelos en diversas plataformas:** Desde servidores y la nube hasta dispositivos móviles y sistemas embebidos.\n",
    "- **Acelerar los cálculos:** Utiliza la potencia de las Unidades de Procesamiento Gráfico (GPUs) y las Unidades de Procesamiento Tensoriales (TPUs) para entrenamientos más rápidos."
   ]
  },
  {
   "cell_type": "markdown",
   "id": "17dd2842",
   "metadata": {},
   "source": [
    "#### Pilares Fundamentales de TensorFlow:"
   ]
  },
  {
   "cell_type": "markdown",
   "id": "b7ca8a83",
   "metadata": {},
   "source": [
    "*I. Tensores:*\n",
    "\n",
    "- Un **tensor** es la unidad fundamental de datos en TensorFlow. Como un arreglo multidimensional de números.\n",
    "- **Rango (número de dimensiones):** Define la estructura del tensor por medio de: *Escalar (Rango 0):* Un solo número (<code>3.14</code>), *Vector (Rango 1):* Un arreglo de números (<code>[1, 2, 3]</code>), *Matriz (rango 2):* Un arreglo bidimensional de números (<code>[[1, 2], [3, 4]]</code>). Y así sucesivamente para dimensiones superiores.\n",
    "- **Forma (Shape):** Especifica el número de elementos en cada dimensión (ej: la forma de una matriz de 2x3 es <code>(2, 3)</code>).\n",
    "- Tipo de Datos (dtype): Define el tipo de datos almacenados en el tensor (<code>float32</code>, <code>int32</code>, <code>string</code>)"
   ]
  },
  {
   "cell_type": "code",
   "execution_count": null,
   "id": "89525f62",
   "metadata": {},
   "outputs": [],
   "source": [
    "import tensorflow as tf\n",
    "\n",
    "# Escalar (rango 0)\n",
    "scalar = tf.constant(5)\n",
    "print(f\"Escalar: {scalar}, Rango: {tf.rank(scalar).numpy()}, Forma: {scalar.shape}\")\n",
    "\n",
    "# Vector (rango 1)\n",
    "vector = tf.constant([1, 2, 3])\n",
    "print(f\"Vector: {vector}, Rango: {tf.rank(vector).numpy()}, Forma: {vector.shape}\")\n",
    "\n",
    "# Matriz (rango 2)\n",
    "matrix = tf.constant([[1, 2], [3, 4]])\n",
    "print(f\"Matriz: {matrix}, Rango: {tf.rank(matrix).numpy()}, Forma: {matrix.shape}\")"
   ]
  },
  {
   "cell_type": "markdown",
   "id": "64f30839",
   "metadata": {},
   "source": [
    "*II. Grafos Computacionales:*\n",
    "<br><br>\n",
    "TensorFlow se basa en la idea de grafos computacionales. Un grafo es una estructura que representa operaciones matemáticas como nodos y los tensores como los bordes (flujos de datos) entre estos nodos.\n",
    "- **Nodos (Operaciones):** Representan las operaciones matemáticas que se realizarán (ej: suma, multiplicación, activación).\n",
    "- **Aristas (Tensores):** Representan los datos que fluyen entre las operaciones.\n",
    "<br><br>\n",
    "Esta abstracción permite a TensorFlow optimizar la ejecución de los cálculos, especialmente en hardware paralelo como GPUs y TPUs."
   ]
  },
  {
   "cell_type": "markdown",
   "id": "17458064",
   "metadata": {},
   "source": [
    "*III. Variables:*\n",
    "<br><br>\n",
    "A diferencia de los tensores constantes (<code>tf.constant</code>), **las variables** (<code>tf.Variable</code>) son tensores que pueden cambiar su valor durante el entrenamiento del modelo. Y se utilizan para almacenar los parámetros aprendibles del modelo, como los pesos y los sesgos en una red neuronal."
   ]
  },
  {
   "cell_type": "code",
   "execution_count": null,
   "id": "3d2f58a8",
   "metadata": {},
   "outputs": [],
   "source": [
    "# Creando una variable\n",
    "initial_value = tf.constant([[1.0, 2.0], [3.0, 4.0]])\n",
    "variable = tf.Variable(initial_value)\n",
    "print(f\"Variable inicial: {variable}\")\n",
    "\n",
    "# Modificando el valor de la variable\n",
    "variable.assign([[5.0, 6.0], [7.0, 8.0]])\n",
    "print(f\"Variable modificada: {variable}\")"
   ]
  },
  {
   "cell_type": "markdown",
   "id": "80113af9",
   "metadata": {},
   "source": [
    "*IV. Operaciones (Ops):*\n",
    "<br><br>\n",
    "Las **operaciones** (<code>tf.operations</code>) son funciones que manipulan los tensores. TensorFlow proporciona una amplia gama de operaciones para realizar cálculos matemáticos, transformaciones de datos, operaciones de control de flujo, etc.\n",
    "<br>\n",
    "Ejemplos comunes incluyen <code>tf.add()</code>, <code>tf.matmul()</code> (multiplicación de matrices), <code>tf.nn.relu()</code> (función de activación ReLU)."
   ]
  },
  {
   "cell_type": "code",
   "execution_count": null,
   "id": "3c8c974e",
   "metadata": {},
   "outputs": [],
   "source": [
    "a = tf.constant(5)\n",
    "b = tf.constant(3)\n",
    "suma = tf.add(a, b)\n",
    "print(f\"Suma: {suma.numpy()}\")\n",
    "\n",
    "x = tf.constant([[1, 2], [3, 4]])\n",
    "y = tf.constant([[5, 6], [7, 8]])\n",
    "producto = tf.matmul(x, y)\n",
    "print(f\"Producto matricial: {producto.numpy()}\")"
   ]
  },
  {
   "cell_type": "markdown",
   "id": "eeeadd2b",
   "metadata": {},
   "source": [
    "#### Características Avanzadas de TensorFlow\n",
    "Más allá de los conceptos básicos, TensorFlow ofrece una amplia gama de características avanzadas:"
   ]
  },
  {
   "cell_type": "markdown",
   "id": "87f42d26",
   "metadata": {},
   "source": [
    "- **Autograd (Diferenciación Automática):** TensorFlow puede calcular automáticamente los gradientes de las funciones, lo cual es fundamental para el algoritmo de backpropagation utilizado en el entrenamiento de redes neuronales. Esto se realiza mediante el seguimiento de las operaciones en un \"tape\" durante el cálculo."
   ]
  },
  {
   "cell_type": "code",
   "execution_count": null,
   "id": "c89114ca",
   "metadata": {},
   "outputs": [],
   "source": [
    "x = tf.Variable(3.0)\n",
    "with tf.GradientTape() as tape:\n",
    "    y = x**2\n",
    "gradient = tape.gradient(y, x)\n",
    "print(f\"Gradiente de y con respecto a x: {gradient.numpy()}\")"
   ]
  },
  {
   "cell_type": "markdown",
   "id": "f7d4ea0f",
   "metadata": {},
   "source": [
    "- <code>tf.data</code> **API**: Una potente API para construir pipelines de datos eficientes para alimentar los modelos durante el entrenamiento. Permite cargar, transformar y preprocesar grandes conjuntos de datos de manera optimizada.\n",
    "<br><br>\n",
    "- <code>tf.function</code>: Un decorador que compila funciones de Python en grafos de TensorFlow optimizados, lo que puede mejorar significativamente el rendimiento de la ejecución.\n",
    "<br><br>\n",
    "- **TensorFlow Hub:** Un repositorio de modelos pre-entrenados que se pueden reutilizar o adaptar para nuevas tareas, lo que acelera el desarrollo y reduce la necesidad de entrenar modelos desde cero.\n",
    "<br><br>\n",
    "- **TensorFlow Lite:** Una versión ligera de TensorFlow diseñada para la implementación de modelos en dispositivos móviles y sistemas embebidos con recursos limitados.\n",
    "<br><br>\n",
    "- **TensorFlow.js:** Permite ejecutar modelos de TensorFlow directamente en el navegador web o en Node.js.\n",
    "<br><br>\n",
    "- **TPU Support:** Optimización para las Unidades de Procesamiento Tensoriales de Google Cloud, que ofrecen una aceleración masiva para tareas de aprendizaje profundo."
   ]
  }
 ],
 "metadata": {
  "language_info": {
   "name": "python"
  }
 },
 "nbformat": 4,
 "nbformat_minor": 5
}
