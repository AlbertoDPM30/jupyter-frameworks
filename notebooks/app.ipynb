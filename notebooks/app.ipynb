{
 "cells": [
  {
   "cell_type": "markdown",
   "id": "e89de8f1",
   "metadata": {},
   "source": [
    "# Diferencias entre Framework's y Bibliotecas (Librería)"
   ]
  },
  {
   "cell_type": "markdown",
   "id": "ee2b65c1",
   "metadata": {},
   "source": [
    "## 1. Biblioteca (Librería):"
   ]
  },
  {
   "cell_type": "markdown",
   "id": "00993704",
   "metadata": {},
   "source": [
    "### ¿Qué es?:\n",
    "Son colecciones de código reutilizable encapsulado en funciones, clases o módulos. Donde El desarrollador las importa directamente en puntos específicos de su código y no imponen ninguna estrucructura ya que se integran en el flujo natural del programa"
   ]
  },
  {
   "cell_type": "code",
   "execution_count": null,
   "id": "bcc0af02",
   "metadata": {},
   "outputs": [],
   "source": [
    "# Ejemplo de importación:\n",
    "import pandas as pd"
   ]
  },
  {
   "cell_type": "markdown",
   "id": "53f143de",
   "metadata": {},
   "source": [
    "### Características Técnicas: <br>\n",
    "Las librerías tienen un acoplamiento bajo, por lo cual son independientes del proyecto principal. Por ejemplo: <code>Pandas</code>, que puede usarse en un Script pequeño o en una aplicación empresarial son afectar la arquitectura.\n",
    "Otra característica es sus dependencias, las cuales son explícitas ya que el desarrollador tiene la libertad de decidir qué partes de la librería usar y cuando actualizarlas usando nuevamente de ejemplo <code>Pandas</code>, si una actualización genera errores, el desarrollador puede mantener una versión anterior."
   ]
  },
  {
   "cell_type": "markdown",
   "id": "30060d05",
   "metadata": {},
   "source": [
    "### Casos de uso:"
   ]
  },
  {
   "cell_type": "markdown",
   "id": "4cc7c7fb",
   "metadata": {},
   "source": [
    "*Problemas específicos:*\n",
    "- Manipulación de datos: <code>NumPy</code>\n",
    "- Peticiones HTTP: <code>Axios</code>, <code>Fetch API</code>\n",
    "- Generación de gráficos: <code>Matplolib</code>"
   ]
  },
  {
   "cell_type": "markdown",
   "id": "f3dbc0c5",
   "metadata": {},
   "source": [
    "*Proyectos Modulares*\n",
    "- Cuando se busca evitar \"Bloat\" (Código innecesario)."
   ]
  },
  {
   "cell_type": "markdown",
   "id": "b7739740",
   "metadata": {},
   "source": [
    "<hr>"
   ]
  },
  {
   "cell_type": "markdown",
   "id": "4bb223b2",
   "metadata": {},
   "source": [
    "### Ejemplos de librerías:"
   ]
  },
  {
   "cell_type": "markdown",
   "id": "d651cfb9",
   "metadata": {},
   "source": [
    "### a. React (Librería JS y TS):"
   ]
  },
  {
   "cell_type": "markdown",
   "id": "ebc5f07c",
   "metadata": {},
   "source": [
    "**React** es una biblioteca de **JavaScript** de código abierto diseñada para crear **interfaces de usuario**. Es mantenida por **Facebook** y permite desarrollar aplicaciones web de una sola página de manera eficiente. React es popular entre los desarrolladores porque facilita la creación de interfaces interactivas y reactivas, actualizando automáticamente el contenido cuando cambian los datos."
   ]
  },
  {
   "cell_type": "code",
   "execution_count": null,
   "id": "20d2405a",
   "metadata": {
    "vscode": {
     "languageId": "javascript"
    }
   },
   "outputs": [],
   "source": [
    "/* App.js */\n",
    "\n",
    "function Greeting({ name }) {\n",
    "  return <h1>Hello, {name}</h1>;\n",
    "}\n",
    "\n",
    "export default function App() {\n",
    "  return <Greeting name=\"world\" />\n",
    "}"
   ]
  },
  {
   "cell_type": "markdown",
   "id": "3383c7cf",
   "metadata": {},
   "source": [
    "#### Creación y anidamiento de componentes:\n",
    "Las aplicaciones React están hechas de componentes. Un componente es una parte de la UI (interfaz de usuario) que tiene su propia lógica y apariencia. Un componente puede ser tan pequeño como un botón o tan grande como una página completa.\n",
    "<br><br>\n",
    "Los componentes de React son funciones de JavaScript que devuelven marcado:"
   ]
  },
  {
   "cell_type": "code",
   "execution_count": null,
   "id": "b0163424",
   "metadata": {
    "vscode": {
     "languageId": "javascript"
    }
   },
   "outputs": [],
   "source": [
    "/* COMPONENTE MyButton */\n",
    "\n",
    "function MyButton() {\n",
    "  return (\n",
    "    <button>\n",
    "      I'm a button\n",
    "    </button>\n",
    "  );\n",
    "}\n",
    "\n",
    "/* App.js */\n",
    "\n",
    "export default function MyApp() {\n",
    "  return (\n",
    "    <div>\n",
    "      <h1>Welcome to my app</h1>\n",
    "      <MyButton />\n",
    "    </div>\n",
    "  );\n",
    "}"
   ]
  },
  {
   "cell_type": "markdown",
   "id": "7a8cbf0c",
   "metadata": {},
   "source": [
    "#### JSX\n",
    "JSX es una extensión de la sintaxis de JavaScript utilizada en la creación de elementos de React. Los desarrolladores la emplean para incrustar código HTML en objetos JavaScript. Ya que JSX acepta expresiones válidas de JavaScript e incrustación de funciones, puede simplificar las estructuras de código complejas."
   ]
  },
  {
   "cell_type": "code",
   "execution_count": null,
   "id": "ba6f3438",
   "metadata": {
    "vscode": {
     "languageId": "javascript"
    }
   },
   "outputs": [],
   "source": [
    "const name = 'John Smith';\n",
    "const element = <h1>Hola, {nombre}</h1>;\n",
    "\n",
    "ReactDOM.render(\n",
    "    element,\n",
    "    document.getElementById('root')\n",
    ");"
   ]
  },
  {
   "cell_type": "markdown",
   "id": "2720be45",
   "metadata": {},
   "source": [
    "#### Gestión de Estado\n",
    "Un estado es un objeto JavaScript que representa una parte de un componente. Cambia cada vez que un usuario interactúa con la aplicación, renderizando una nueva interfaz de cliente para reflejar las modificaciones.\n",
    "\n",
    "La gestión de estados se refiere a la práctica de gestionar los estados de la aplicación React. Incluye el almacenamiento de datos en librerías de gestión de estados de terceros y la activación del proceso de re-renderización cada vez que los datos cambian."
   ]
  },
  {
   "cell_type": "code",
   "execution_count": null,
   "id": "7260537a",
   "metadata": {
    "vscode": {
     "languageId": "javascript"
    }
   },
   "outputs": [],
   "source": [
    "import React, { useState } from 'react';\n",
    "\n",
    "function Counter() {\n",
    "\n",
    "    const [count, setCount] = useState(0);\n",
    "\n",
    "    return (\n",
    "        <div>\n",
    "            <p>You clicked {count} times</p>\n",
    "            <button onClick={() => setCount(count + 1)}>\n",
    "                Click me\n",
    "            </button>\n",
    "        </div>\n",
    "    );\n",
    "}\n",
    "\n",
    "export default Counter;"
   ]
  },
  {
   "cell_type": "markdown",
   "id": "7a848584",
   "metadata": {},
   "source": [
    "<hr>"
   ]
  },
  {
   "cell_type": "markdown",
   "id": "544c4690",
   "metadata": {},
   "source": [
    "### b. TensorFlow:"
   ]
  },
  {
   "cell_type": "markdown",
   "id": "7b58e907",
   "metadata": {},
   "source": [
    "**TensorFlow** es una **biblioteca de código abierto** creada por Google para desarrollar e implementar modelos de **aprendizaje automático** y **redes neuronales**. Su objetivo es ayudar a los desarrolladores a crear sistemas inteligentes que puedan **reconocer patrones**, realizar **predicciones** y **tomar decisiones basadas en datos**. TensorFlow permite el entrenamiento y la implementación de modelos de forma sencilla, ya sea en servidores o en la web.\n",
    "\n",
    "En esencia, TensorFlow te permite:\n",
    "\n",
    "- **Definir y entrenar modelos de aprendizaje automático:** Desde redes neuronales profundas hasta modelos de regresión lineal.\n",
    "- **Manejar grandes conjuntos de datos:** Optimizado para trabajar eficientemente con cantidades masivas de información.\n",
    "- **Implementar modelos en diversas plataformas:** Desde servidores y la nube hasta dispositivos móviles y sistemas embebidos.\n",
    "- **Acelerar los cálculos:** Utiliza la potencia de las Unidades de Procesamiento Gráfico (GPUs) y las Unidades de Procesamiento Tensoriales (TPUs) para entrenamientos más rápidos."
   ]
  },
  {
   "cell_type": "markdown",
   "id": "17dd2842",
   "metadata": {},
   "source": [
    "#### Pilares Fundamentales de TensorFlow:"
   ]
  },
  {
   "cell_type": "markdown",
   "id": "b7ca8a83",
   "metadata": {},
   "source": [
    "*I. Tensores:*\n",
    "\n",
    "- Un **tensor** es la unidad fundamental de datos en TensorFlow. Como un arreglo multidimensional de números.\n",
    "- **Rango (número de dimensiones):** Define la estructura del tensor por medio de: *Escalar (Rango 0):* Un solo número (<code>3.14</code>), *Vector (Rango 1):* Un arreglo de números (<code>[1, 2, 3]</code>), *Matriz (rango 2):* Un arreglo bidimensional de números (<code>[[1, 2], [3, 4]]</code>). Y así sucesivamente para dimensiones superiores.\n",
    "- **Forma (Shape):** Especifica el número de elementos en cada dimensión (ej: la forma de una matriz de 2x3 es <code>(2, 3)</code>).\n",
    "- Tipo de Datos (dtype): Define el tipo de datos almacenados en el tensor (<code>float32</code>, <code>int32</code>, <code>string</code>)"
   ]
  },
  {
   "cell_type": "code",
   "execution_count": null,
   "id": "89525f62",
   "metadata": {},
   "outputs": [],
   "source": [
    "import tensorflow as tf\n",
    "\n",
    "# Escalar (rango 0)\n",
    "scalar = tf.constant(5)\n",
    "print(f\"Escalar: {scalar}, Rango: {tf.rank(scalar).numpy()}, Forma: {scalar.shape}\")\n",
    "\n",
    "# Vector (rango 1)\n",
    "vector = tf.constant([1, 2, 3])\n",
    "print(f\"Vector: {vector}, Rango: {tf.rank(vector).numpy()}, Forma: {vector.shape}\")\n",
    "\n",
    "# Matriz (rango 2)\n",
    "matrix = tf.constant([[1, 2], [3, 4]])\n",
    "print(f\"Matriz: {matrix}, Rango: {tf.rank(matrix).numpy()}, Forma: {matrix.shape}\")"
   ]
  },
  {
   "cell_type": "markdown",
   "id": "64f30839",
   "metadata": {},
   "source": [
    "*II. Grafos Computacionales:*\n",
    "<br><br>\n",
    "TensorFlow se basa en la idea de grafos computacionales. Un grafo es una estructura que representa operaciones matemáticas como nodos y los tensores como los bordes (flujos de datos) entre estos nodos.\n",
    "- **Nodos (Operaciones):** Representan las operaciones matemáticas que se realizarán (ej: suma, multiplicación, activación).\n",
    "- **Aristas (Tensores):** Representan los datos que fluyen entre las operaciones.\n",
    "<br><br>\n",
    "Esta abstracción permite a TensorFlow optimizar la ejecución de los cálculos, especialmente en hardware paralelo como GPUs y TPUs."
   ]
  },
  {
   "cell_type": "markdown",
   "id": "17458064",
   "metadata": {},
   "source": [
    "*III. Variables:*\n",
    "<br><br>\n",
    "A diferencia de los tensores constantes (<code>tf.constant</code>), **las variables** (<code>tf.Variable</code>) son tensores que pueden cambiar su valor durante el entrenamiento del modelo. Y se utilizan para almacenar los parámetros aprendibles del modelo, como los pesos y los sesgos en una red neuronal."
   ]
  },
  {
   "cell_type": "code",
   "execution_count": null,
   "id": "3d2f58a8",
   "metadata": {},
   "outputs": [],
   "source": [
    "# Creando una variable\n",
    "initial_value = tf.constant([[1.0, 2.0], [3.0, 4.0]])\n",
    "variable = tf.Variable(initial_value)\n",
    "print(f\"Variable inicial: {variable}\")\n",
    "\n",
    "# Modificando el valor de la variable\n",
    "variable.assign([[5.0, 6.0], [7.0, 8.0]])\n",
    "print(f\"Variable modificada: {variable}\")"
   ]
  },
  {
   "cell_type": "markdown",
   "id": "80113af9",
   "metadata": {},
   "source": [
    "*IV. Operaciones (Ops):*\n",
    "<br><br>\n",
    "Las **operaciones** (<code>tf.operations</code>) son funciones que manipulan los tensores. TensorFlow proporciona una amplia gama de operaciones para realizar cálculos matemáticos, transformaciones de datos, operaciones de control de flujo, etc.\n",
    "<br>\n",
    "Ejemplos comunes incluyen <code>tf.add()</code>, <code>tf.matmul()</code> (multiplicación de matrices), <code>tf.nn.relu()</code> (función de activación ReLU)."
   ]
  },
  {
   "cell_type": "code",
   "execution_count": null,
   "id": "3c8c974e",
   "metadata": {},
   "outputs": [],
   "source": [
    "a = tf.constant(5)\n",
    "b = tf.constant(3)\n",
    "suma = tf.add(a, b)\n",
    "print(f\"Suma: {suma.numpy()}\")\n",
    "\n",
    "x = tf.constant([[1, 2], [3, 4]])\n",
    "y = tf.constant([[5, 6], [7, 8]])\n",
    "producto = tf.matmul(x, y)\n",
    "print(f\"Producto matricial: {producto.numpy()}\")"
   ]
  },
  {
   "cell_type": "markdown",
   "id": "eeeadd2b",
   "metadata": {},
   "source": [
    "#### Características Avanzadas de TensorFlow\n",
    "Más allá de los conceptos básicos, TensorFlow ofrece una amplia gama de características avanzadas:"
   ]
  },
  {
   "cell_type": "markdown",
   "id": "87f42d26",
   "metadata": {},
   "source": [
    "- **Autograd (Diferenciación Automática):** TensorFlow puede calcular automáticamente los gradientes de las funciones, lo cual es fundamental para el algoritmo de backpropagation utilizado en el entrenamiento de redes neuronales. Esto se realiza mediante el seguimiento de las operaciones en un \"tape\" durante el cálculo."
   ]
  },
  {
   "cell_type": "code",
   "execution_count": null,
   "id": "c89114ca",
   "metadata": {},
   "outputs": [],
   "source": [
    "x = tf.Variable(3.0)\n",
    "with tf.GradientTape() as tape:\n",
    "    y = x**2\n",
    "gradient = tape.gradient(y, x)\n",
    "print(f\"Gradiente de y con respecto a x: {gradient.numpy()}\")"
   ]
  },
  {
   "cell_type": "markdown",
   "id": "f7d4ea0f",
   "metadata": {},
   "source": [
    "- <code>tf.data</code> **API**: Una potente API para construir pipelines de datos eficientes para alimentar los modelos durante el entrenamiento. Permite cargar, transformar y preprocesar grandes conjuntos de datos de manera optimizada.\n",
    "<br><br>\n",
    "- <code>tf.function</code>: Un decorador que compila funciones de Python en grafos de TensorFlow optimizados, lo que puede mejorar significativamente el rendimiento de la ejecución.\n",
    "<br><br>\n",
    "- **TensorFlow Hub:** Un repositorio de modelos pre-entrenados que se pueden reutilizar o adaptar para nuevas tareas, lo que acelera el desarrollo y reduce la necesidad de entrenar modelos desde cero.\n",
    "<br><br>\n",
    "- **TensorFlow Lite:** Una versión ligera de TensorFlow diseñada para la implementación de modelos en dispositivos móviles y sistemas embebidos con recursos limitados.\n",
    "<br><br>\n",
    "- **TensorFlow.js:** Permite ejecutar modelos de TensorFlow directamente en el navegador web o en Node.js.\n",
    "<br><br>\n",
    "- **TPU Support:** Optimización para las Unidades de Procesamiento Tensoriales de Google Cloud, que ofrecen una aceleración masiva para tareas de aprendizaje profundo."
   ]
  },
  {
   "cell_type": "markdown",
   "id": "a5af55ba",
   "metadata": {},
   "source": [
    "<hr>"
   ]
  },
  {
   "cell_type": "markdown",
   "id": "5c3131e8",
   "metadata": {},
   "source": [
    "### c. Deep Java Library (DJL)"
   ]
  },
  {
   "cell_type": "markdown",
   "id": "8a59b69f",
   "metadata": {},
   "source": [
    "es una **biblioteca de aprendizaje profundo** de código abierto desarrollada por Amazon AI. Su objetivo principal es proporcionar una **API de alto nivel y fácil de usar** para que los desarrolladores de Java puedan construir, entrenar e implementar modelos de aprendizaje profundo sin necesidad de tener un conocimiento profundo de los frameworks de backend subyacentes."
   ]
  },
  {
   "cell_type": "markdown",
   "id": "f497c371",
   "metadata": {},
   "source": [
    "#### Puntos clave que definen a DJL:"
   ]
  },
  {
   "cell_type": "markdown",
   "id": "ff88dc3e",
   "metadata": {},
   "source": [
    "- **Independencia del Backend:** DJL está construido sobre una interfaz flexible que le permite interactuar con múltiples engines de aprendizaje profundo populares como **Apache MXNet, PyTorch y TensorFlow.** Esto significa que puedes escribir tu código en Java utilizando la API de DJL y luego elegir el backend que mejor se adapte a tus necesidades en términos de rendimiento, disponibilidad de hardware o familiaridad.\n",
    "<br><br>\n",
    "- **API Intuitiva para Desarrolladores Java:** DJL se esfuerza por ofrecer una API que se sienta natural para los desarrolladores de Java, utilizando conceptos y patrones comunes en el ecosistema Java. Esto facilita la adopción del aprendizaje profundo por parte de los programadores de Java.\n",
    "<br><br>\n",
    "- **Soporte para Tareas Comunes de Deep Learning:** DJL proporciona herramientas y abstracciones para una amplia gama de tareas de aprendizaje profundo, incluyendo visión por computadora, procesamiento de lenguaje natural, y más.\n",
    "<br><br>\n",
    "- **Integración con el Ecosistema Java:** DJL se integra perfectamente con otras bibliotecas y herramientas de Java, como Maven, Gradle, Spring y Hadoop.\n",
    "<br><br>\n",
    "- **Rendimiento:** Si bien la abstracción introduce una capa adicional, DJL está diseñado para ser eficiente y aprovecha las optimizaciones de los backends subyacentes, incluyendo el uso de GPUs."
   ]
  },
  {
   "cell_type": "markdown",
   "id": "d463cfda",
   "metadata": {},
   "source": [
    "####  Componentes Fundamentales de DJL:"
   ]
  },
  {
   "cell_type": "markdown",
   "id": "232f5d76",
   "metadata": {},
   "source": [
    "*I. EngineProvider y Engine:*\n",
    "<br><br>\n",
    "El <code>EngineProvider</code> es una interfaz que permite a DJL descubrir e inicializar los diferentes backends de aprendizaje profundo instalados en el sistema.\n",
    "<br>\n",
    "El <code>Engine</code> representa el backend de aprendizaje profundo específico que se está utilizando (por ejemplo, MXNet, PyTorch o TensorFlow). DJL proporciona una forma uniforme de interactuar con estos diferentes engines a través de su API.\n",
    "<br>\n",
    "Al ejecutar una aplicación DJL, intentará automáticamente encontrar un engine disponible. Puedes especificar un engine en particular si lo deseas."
   ]
  },
  {
   "cell_type": "markdown",
   "id": "663e1f0e",
   "metadata": {},
   "source": [
    "*II. NDArray:*\n",
    "<br><br>\n",
    "<code>NDArray</code> (N-Dimensional Array) es la estructura de datos fundamental en DJL, similar a los tensores en TensorFlow o los arrays en NumPy. Representa un arreglo multidimensional de valores numéricos.\n",
    "<br>\n",
    "Al igual que los tensores, los <code>NDArray</code> tienen una forma (shape) que define sus dimensiones y un tipo de datos (dtype).\n",
    "<br>\n",
    "Las operaciones matemáticas y de manipulación de datos en DJL se realizan principalmente sobre objetos <code>NDArray</code>."
   ]
  },
  {
   "cell_type": "code",
   "execution_count": null,
   "id": "56f7d270",
   "metadata": {
    "vscode": {
     "languageId": "java"
    }
   },
   "outputs": [],
   "source": [
    "import ai.djl.ndarray.NDArray;\n",
    "import ai.djl.ndarray.NDManager;\n",
    "\n",
    "public class NDArrayExample {\n",
    "    public static void main(String[] args) {\n",
    "        try (NDManager manager = NDManager.newBaseManager()) {\n",
    "            // Creando un escalar (rango 0)\n",
    "            NDArray scalar = manager.create(5.0f);\n",
    "            System.out.println(\"Escalar: \" + scalar);\n",
    "            System.out.println(\"Forma: \" + scalar.getShape());\n",
    "\n",
    "            // Creando un vector (rango 1)\n",
    "            NDArray vector = manager.create(new float[]{1, 2, 3});\n",
    "            System.out.println(\"Vector: \" + vector);\n",
    "            System.out.println(\"Forma: \" + vector.getShape());\n",
    "\n",
    "            // Creando una matriz (rango 2)\n",
    "            NDArray matrix = manager.create(new float[][]{{1, 2}, {3, 4}});\n",
    "            System.out.println(\"Matriz: \" + matrix);\n",
    "            System.out.println(\"Forma: \" + matrix.getShape());\n",
    "        }\n",
    "    }\n",
    "}"
   ]
  },
  {
   "cell_type": "markdown",
   "id": "08c789bd",
   "metadata": {},
   "source": [
    "*III. Model:*\n",
    "<br><br>\n",
    "La interfaz <code>Model</code> en DJL abstrae un modelo de aprendizaje profundo. Contiene la lógica de la red neuronal y sus parámetros aprendidos. Un modelo en DJL se puede cargar desde un archivo pre-entrenado (en formatos compatibles con los backends subyacentes) o se puede definir y entrenar desde cero utilizando las API de DJL."
   ]
  },
  {
   "cell_type": "markdown",
   "id": "32a8e183",
   "metadata": {},
   "source": [
    "*IV. Block:*\n",
    "<br><br>\n",
    "Un <code>Block</code> es una interfaz que representa un bloque de construcción de una red neuronal, como una capa convolucional, una capa densa, una función de activación, etc. Los modelos se construyen ensamblando diferentes bloques en una estructura jerárquica. DJL proporciona una variedad de bloques predefinidos y también permite crear bloques personalizados."
   ]
  },
  {
   "cell_type": "code",
   "execution_count": null,
   "id": "f31faeca",
   "metadata": {
    "vscode": {
     "languageId": "java"
    }
   },
   "outputs": [],
   "source": [
    "import ai.djl.Model;\n",
    "import ai.djl.basicmodelzoo.basic.Linear;\n",
    "import ai.djl.ndarray.NDManager;\n",
    "import ai.djl.nn.SequentialBlock;\n",
    "\n",
    "public class ModelExample {\n",
    "    public static void main(String[] args) {\n",
    "        try (NDManager manager = NDManager.newBaseManager();\n",
    "            Model model = Model.newInstance(\"simple_linear\")) {\n",
    "\n",
    "            // Creando un modelo secuencial simple\n",
    "            SequentialBlock block = new SequentialBlock()\n",
    "                    .add(Linear.builder().setUnits(10).build()); // Capa lineal con 10 unidades\n",
    "\n",
    "            // Asignando el bloque al modelo\n",
    "            model.setBlock(block);\n",
    "\n",
    "            System.out.println(\"Modelo creado.\");\n",
    "        }\n",
    "    }\n",
    "}"
   ]
  },
  {
   "cell_type": "markdown",
   "id": "fc2c777e",
   "metadata": {},
   "source": [
    "*V. Trainer:*\n",
    "<br><br>\n",
    "El <code>Trainer</code> es la clase responsable de entrenar un modelo. Proporciona métodos para realizar el forward pass, calcular la pérdida, calcular los gradientes y actualizar los parámetros del modelo utilizando un optimizador. El <code>Trainer</code> requiere una configuración que incluye el optimizador, la función de pérdida y las métricas de evaluación."
   ]
  },
  {
   "cell_type": "markdown",
   "id": "f5af0325",
   "metadata": {},
   "source": [
    "*VI. Predictor:*\n",
    "<br><br>\n",
    "El <code>Predictor</code> se utiliza para realizar inferencia con un modelo entrenado. Toma una entrada y produce una salida basada en el conocimiento aprendido por el modelo. El <code>Predictor</code> simplifica el proceso de obtener predicciones para nuevas instancias de datos."
   ]
  },
  {
   "cell_type": "markdown",
   "id": "6658ea9c",
   "metadata": {},
   "source": [
    "#### Construcción de Modelos con DJL\n",
    "DJL ofrece varias formas de construir modelos:"
   ]
  },
  {
   "cell_type": "markdown",
   "id": "45cd4e51",
   "metadata": {},
   "source": [
    "I. **Usando Bloques Predefinidos:** DJL proporciona una colección de bloques comunes de redes neuronales que se pueden ensamblar fácilmente."
   ]
  },
  {
   "cell_type": "code",
   "execution_count": null,
   "id": "58370d89",
   "metadata": {
    "vscode": {
     "languageId": "java"
    }
   },
   "outputs": [],
   "source": [
    "import ai.djl.Model;\n",
    "import ai.djl.ndarray.NDManager;\n",
    "import ai.djl.nn.SequentialBlock;\n",
    "import ai.djl.nn.convolutional.Conv2d;\n",
    "import ai.djl.nn.core.Linear;\n",
    "import ai.djl.nn.pooling.MaxPool2d;\n",
    "import ai.djl.nn.relu.Relu;\n",
    "\n",
    "public class CNNModel {\n",
    "    public static void main(String[] args) {\n",
    "        try (NDManager manager = NDManager.newBaseManager();\n",
    "            Model model = Model.newInstance(\"cnn\")) {\n",
    "\n",
    "            SequentialBlock block = new SequentialBlock()\n",
    "                    .add(Conv2d.builder().setFilters(32).setKernelShape(new int[]{3, 3}).build())\n",
    "                    .add(new Relu())\n",
    "                    .add(MaxPool2d.builder().setKernelShape(new int[]{2, 2}).setStride(new int[]{2, 2}).build())\n",
    "                    .add(Conv2d.builder().setFilters(64).setKernelShape(new int[]{3, 3}).build())\n",
    "                    .add(new Relu())\n",
    "                    .add(MaxPool2d.builder().setKernelShape(new int[]{2, 2}).setStride(new int[]{2, 2}).build())\n",
    "                    // ... más capas ...\n",
    "                    .add(new ai.djl.nn.Flatten())\n",
    "                    .add(Linear.builder().setUnits(128).build())\n",
    "                    .add(new Relu())\n",
    "                    .add(Linear.builder().setUnits(10).build()); // Capa de salida para 10 clases\n",
    "\n",
    "            model.setBlock(block);\n",
    "            System.out.println(\"Modelo CNN creado.\");\n",
    "        }\n",
    "    }\n",
    "}"
   ]
  },
  {
   "cell_type": "markdown",
   "id": "f4e2e4ef",
   "metadata": {},
   "source": [
    "II. **Definiendo Bloques Personalizados:** Para arquitecturas más complejas o específicas, puedes implementar tus propios bloques que extiendan la interfaz <code>Block</code>."
   ]
  },
  {
   "cell_type": "markdown",
   "id": "e8688117",
   "metadata": {},
   "source": [
    "#### Entrenamiento y Evaluación de Modelos\n",
    "El proceso de entrenamiento en DJL implica los siguientes pasos:"
   ]
  },
  {
   "cell_type": "markdown",
   "id": "455c5e1a",
   "metadata": {},
   "source": [
    "I. **Cargar Datos:** DJL proporciona utilidades para cargar y preprocesar datos.\n",
    "<br><br>\n",
    "II. **Crear un <code>Trainer</code>:** Configurar el optimizador, la función de pérdida y las métricas.\n",
    "<br><br>\n",
    "III. **Iterar sobre los Datos:** Para cada batch de datos:\n",
    "- Realizar el forward pass para obtener las predicciones.\n",
    "- Calcular la pérdida comparando las predicciones con las etiquetas reales.\n",
    "- Calcular los gradientes de la pérdida con respecto a los parámetros del modelo.\n",
    "- Actualizar los parámetros del modelo utilizando el optimizador.\n",
    "<br><br>\n",
    "IV. **Evaluar el Modelo:** Utilizar un conjunto de datos de prueba para medir el rendimiento del modelo utilizando las métricas definidas."
   ]
  },
  {
   "cell_type": "code",
   "execution_count": null,
   "id": "ce2ed318",
   "metadata": {
    "vscode": {
     "languageId": "java"
    }
   },
   "outputs": [],
   "source": [
    "import ai.djl.Model;\n",
    "import ai.djl.basicdataset.BasicDataset;\n",
    "import ai.djl.basicdataset.Mnist;\n",
    "import ai.djl.basicmodelzoo.basic.Linear;\n",
    "import ai.djl.engine.Engine;\n",
    "import ai.djl.metric.Metrics;\n",
    "import ai.djl.ndarray.NDList;\n",
    "import ai.djl.ndarray.NDManager;\n",
    "import ai.djl.nn.SequentialBlock;\n",
    "import ai.djl.training.DefaultTrainingConfig;\n",
    "import ai.djl.training.EasyTrain;\n",
    "import ai.djl.training.Trainer;\n",
    "import ai.djl.training.dataset.Dataset;\n",
    "import ai.djl.training.dataset.RandomAccessDataset;\n",
    "import ai.djl.training.evaluator.Accuracy;\n",
    "import ai.djl.training.listener.TrainingListener;\n",
    "import ai.djl.training.loss.Loss;\n",
    "import org.slf4j.Logger;\n",
    "import org.slf4j.LoggerFactory;\n",
    "\n",
    "import java.io.IOException;\n",
    "\n",
    "public class TrainingExample {\n",
    "\n",
    "    private static final Logger logger = LoggerFactory.getLogger(TrainingExample.class);\n",
    "\n",
    "    public static void main(String[] args) throws IOException, InterruptedException {\n",
    "        try (NDManager manager = NDManager.newBaseManager();\n",
    "            Model model = Model.newInstance(\"mlp\")) {\n",
    "\n",
    "            SequentialBlock block = new SequentialBlock()\n",
    "                    .add(Linear.builder().setUnits(128).build())\n",
    "                    .add(new ai.djl.nn.relu.Relu())\n",
    "                    .add(Linear.builder().setUnits(10).build());\n",
    "\n",
    "            model.setBlock(block);\n",
    "\n",
    "            RandomAccessDataset trainingSet = Mnist.builder()\n",
    "                    .optUsage(BasicDataset.Usage.TRAIN)\n",
    "                    .setSampling(128, true)\n",
    "                    .build();\n",
    "\n",
    "            RandomAccessDataset validateSet = Mnist.builder()\n",
    "                    .optUsage(BasicDataset.Usage.TEST)\n",
    "                    .setSampling(128, true)\n",
    "                    .build();\n",
    "\n",
    "            DefaultTrainingConfig config = new DefaultTrainingConfig(Loss.softmaxCrossEntropyLoss())\n",
    "                    .addEvaluator(new Accuracy())\n",
    "                    .addTrainingListeners(TrainingListener.Defaults.logging());\n",
    "\n",
    "            try (Trainer trainer = model.newTrainer(config)) {\n",
    "                trainer.initialize(trainingSet.getShape());\n",
    "                EasyTrain.fit(trainer, 5, trainingSet, validateSet);\n",
    "            }\n",
    "        }\n",
    "    }\n",
    "}"
   ]
  },
  {
   "cell_type": "markdown",
   "id": "f0ddb698",
   "metadata": {},
   "source": [
    "#### Inferencia con DJL\n",
    "Una vez que el modelo está entrenado, se puede utilizar para realizar predicciones sobre nuevos datos."
   ]
  },
  {
   "cell_type": "code",
   "execution_count": null,
   "id": "769d73ef",
   "metadata": {
    "vscode": {
     "languageId": "java"
    }
   },
   "outputs": [],
   "source": [
    "import ai.djl.Model;\n",
    "import ai.djl.basicdataset.cv.ImageFolder;\n",
    "import ai.djl.inference.Predictor;\n",
    "import ai.djl.modality.Classifications;\n",
    "import ai.djl.modality.cv.Image;\n",
    "import ai.djl.modality.cv.transform.Resize;\n",
    "import ai.djl.modality.cv.transform.ToTensor;\n",
    "import ai.djl.ndarray.NDArray;\n",
    "import ai.djl.ndarray.NDList;\n",
    "import ai.djl.ndarray.NDManager;\n",
    "import ai.djl.pipeline.ImageClassificationPipeline;\n",
    "import ai.djl.repository.zoo.Criteria;\n",
    "import ai.djl.repository.zoo.ZooModel;\n",
    "import ai.djl.translate.Pipeline;\n",
    "import ai.djl.translate.TranslateException;\n",
    "import ai.djl.translate.Translator;\n",
    "import ai.djl.translate.TranslatorContext;\n",
    "\n",
    "import java.io.IOException;\n",
    "import java.nio.file.Paths;\n",
    "import java.util.List;\n",
    "\n",
    "public class InferenceExample {\n",
    "    public static void main(String[] args) throws IOException, TranslateException {\n",
    "        Criteria<Image, Classifications> criteria = Criteria.builder()\n",
    "                .setTypes(Image.class, Classifications.class)\n",
    "                .optModelUrls(\"https://resources.djl.ai/demo/squeezenet/squeezenet_v1.1.zip\")\n",
    "                .optProgress(new ai.djl.training.util.ProgressBar())\n",
    "                .build();\n",
    "\n",
    "        try (ZooModel<Image, Classifications> model = criteria.loadModel();\n",
    "            Predictor<Image, Classifications> predictor = model.newPredictor()) {\n",
    "\n",
    "            Image image = ImageFolder.openImage(Paths.get(\"src/test/resources/kitten.jpg\"));\n",
    "\n",
    "            Classifications result = predictor.predict(image);\n",
    "            System.out.println(result);\n",
    "        }\n",
    "    }\n",
    "}"
   ]
  },
  {
   "cell_type": "markdown",
   "id": "c499d861",
   "metadata": {},
   "source": [
    "#### Características Avanzadas de DJL"
   ]
  },
  {
   "cell_type": "markdown",
   "id": "880c684c",
   "metadata": {},
   "source": [
    "- **Model Zoo:** DJL proporciona un \"Model Zoo\", un repositorio de modelos pre-entrenados para diversas tareas de aprendizaje profundo, lo que facilita la experimentación y la reutilización de modelos existentes.\n",
    "<br><br>\n",
    "- **Pipelines de Traducción:** DJL ofrece mecanismos para definir pipelines de preprocesamiento y postprocesamiento de datos para la inferencia.\n",
    "<br><br>\n",
    "- **Soporte para Formatos de Modelos:** DJL puede cargar modelos guardados en formatos nativos de los diferentes backends (por ejemplo, archivos <code>.pt</code> para PyTorch, archivos .<code>params</code> y <code>.json</code> para MXNet, SavedModel para TensorFlow).\n",
    "<br><br>\n",
    "- **Integración con Hardware Acelerado:** DJL aprovecha automáticamente las GPUs disponibles para acelerar el entrenamiento y la inferencia, dependiendo del backend utilizado y su configuración.\n",
    "<br><br>\n",
    "- **Portabilidad:** Al ser una biblioteca Java, las aplicaciones DJL pueden ejecutarse en cualquier plataforma donde Java sea compatible."
   ]
  },
  {
   "cell_type": "markdown",
   "id": "6ed0607d",
   "metadata": {},
   "source": [
    "<hr>"
   ]
  },
  {
   "cell_type": "markdown",
   "id": "b049a18b",
   "metadata": {},
   "source": [
    "## 2. FRAMEWORK"
   ]
  },
  {
   "cell_type": "markdown",
   "id": "7667922a",
   "metadata": {},
   "source": [
    "### ¿Qué es?:\n",
    "Un Framework es una estructura conceptual y tecnológica predefinida que sirve como base para construir una aplicación o sistema. Imagínalo como un esqueleto o una plantilla que proporciona una arquitectura básica, un conjunto de herramientas, bibliotecas y convenciones que los desarrolladores pueden utilizar y extender para crear software de manera más eficiente y organizada."
   ]
  },
  {
   "cell_type": "markdown",
   "id": "aa6529c9",
   "metadata": {},
   "source": [
    "### Características fundamentales de un Framework\n",
    "- **Estructura y Organización:** Un framework impone una cierta estructura y organización al código, lo que facilita la colaboración entre desarrolladores, mejora la mantenibilidad y promueve la reutilización de código. Define cómo se deben organizar los archivos, las clases y la lógica de la aplicación.\n",
    "<br><br>\n",
    "- **Reutilización de Código:** Los frameworks vienen con una gran cantidad de código preescrito y probado para tareas comunes, como el manejo de rutas, la interacción con bases de datos, la gestión de sesiones, la seguridad, etc. Esto ahorra a los desarrolladores la necesidad de escribir este código desde cero.\n",
    "<br><br>\n",
    "- **Convenciones:** Los frameworks a menudo siguen un conjunto de convenciones de codificación y diseño. Adherirse a estas convenciones facilita la comprensión del código por parte de otros desarrolladores que estén familiarizados con el mismo framework.\n",
    "<br><br>\n",
    "- **Abstracción:** Los frameworks abstraen la complejidad de las tecnologías subyacentes, permitiendo a los desarrolladores centrarse en la lógica específica de su aplicación en lugar de preocuparse por los detalles de bajo nivel.\n",
    "<br><br>\n",
    "- **Extensibilidad:** Los frameworks están diseñados para ser extendidos y personalizados. Los desarrolladores pueden agregar su propia lógica y funcionalidades a través de la herencia, la composición o el uso de plugins y extensiones.\n",
    "<br><br>\n",
    "- **Flujo de Control Invertido (Inversion of Control - IoC):** Una característica distintiva de muchos frameworks es la inversión de control. En lugar de que el código de la aplicación controle el flujo general, es el framework quien lo hace y llama al código específico de la aplicación cuando es necesario. Esto se conoce como el \"Principio de Hollywood\": \"No nos llames, nosotros te llamaremos\"."
   ]
  },
  {
   "cell_type": "markdown",
   "id": "75d1baaf",
   "metadata": {},
   "source": [
    "### LARAVEL: El Framework PHP para Artesanos Web"
   ]
  },
  {
   "cell_type": "markdown",
   "id": "38a4aac2",
   "metadata": {},
   "source": [
    "**Laravel** es un **framework de desarrollo web en PHP de código abierto**, diseñado con la elegancia y la productividad en mente. Su objetivo principal es facilitar y acelerar el proceso de construcción de aplicaciones web robustas, seguras y mantenibles, siguiendo patrones de diseño modernos como el **Modelo-Vista-Controlador (MVC)**. Laravel se ha ganado una gran comunidad de desarrolladores gracias a su sintaxis expresiva, su rica colección de características y su excelente documentación."
   ]
  },
  {
   "cell_type": "markdown",
   "id": "34e03221",
   "metadata": {},
   "source": [
    "#### Pilares fundamentales de Laravel:\n",
    "- **Sintaxis Elegante y Expresiva:** Laravel se destaca por su sintaxis clara y concisa, lo que hace que el código sea más legible y fácil de escribir. Esto contribuye a una mejor experiencia de desarrollo y a una menor curva de aprendizaje para los nuevos integrantes del equipo.\n",
    "<br><br>\n",
    "- **Arquitectura MVC:** Laravel implementa el patrón Modelo-Vista-Controlador, que separa la lógica de negocio (Modelo), la presentación de la información (Vista) y la gestión de las peticiones del usuario (Controlador). Esto promueve la organización del código y la separación de responsabilidades.\n",
    "<br><br>\n",
    "- **Gran Ecosistema y Comunidad:** Laravel cuenta con un ecosistema robusto de paquetes y herramientas creados por la comunidad y el equipo de Laravel. Además, su amplia y activa comunidad ofrece un valioso soporte, tutoriales y recursos de aprendizaje.\n",
    "<br><br>\n",
    "- **Seguridad Integrada:** Laravel incorpora características de seguridad importantes para proteger las aplicaciones web contra vulnerabilidades comunes, como la protección contra ataques CSRF (Cross-Site Request Forgery) y XSS (Cross-Site Scripting).\n",
    "<br><br>\n",
    "- **Herramientas y Características Robustas:** Laravel viene con una gran cantidad de características y herramientas integradas que simplifican tareas comunes de desarrollo web, como el manejo de bases de datos (Eloquent ORM), el enrutamiento, la autenticación, la autorización, el manejo de formularios, la gestión de sesiones, el almacenamiento en caché, las pruebas y mucho más."
   ]
  },
  {
   "cell_type": "markdown",
   "id": "30b37eb2",
   "metadata": {},
   "source": [
    "####  Componentes Clave de Laravel:"
   ]
  },
  {
   "cell_type": "markdown",
   "id": "b39f6150",
   "metadata": {},
   "source": [
    "I. **Enrutamiento (Routing):** Laravel proporciona un sistema de enrutamiento flexible y expresivo para definir cómo responde la aplicación a las peticiones HTTP (GET, POST, PUT, DELETE, etc.) en diferentes URLs."
   ]
  },
  {
   "cell_type": "code",
   "execution_count": null,
   "id": "21dc8b10",
   "metadata": {
    "vscode": {
     "languageId": "php"
    }
   },
   "outputs": [],
   "source": [
    "use Illuminate\\Support\\Facades\\Route;\n",
    "\n",
    "Route::get('/', function () {\n",
    "    return view('welcome');\n",
    "});\n",
    "\n",
    "Route::get('/usuarios/{id}', 'App\\Http\\Controllers\\UserController@show');\n",
    "\n",
    "Route::post('/usuarios', 'App\\Http\\Controllers\\UserController@store');"
   ]
  },
  {
   "cell_type": "markdown",
   "id": "4c5e1759",
   "metadata": {},
   "source": [
    "II. **Controladores (Controllers):** Los controladores son clases PHP que contienen la lógica para manejar las peticiones HTTP. Reciben los datos de la petición, interactúan con el modelo si es necesario y devuelven una respuesta (generalmente una vista o datos en formato JSON)."
   ]
  },
  {
   "cell_type": "code",
   "execution_count": null,
   "id": "20da3320",
   "metadata": {
    "vscode": {
     "languageId": "php"
    }
   },
   "outputs": [],
   "source": [
    "namespace App\\Http\\Controllers;\n",
    "\n",
    "use App\\Models\\User;\n",
    "use Illuminate\\Http\\Request;\n",
    "\n",
    "class UserController extends Controller\n",
    "{\n",
    "    public function show($id)\n",
    "    {\n",
    "        $user = User::findOrFail($id);\n",
    "        return view('usuarios.show', ['user' => $user]);\n",
    "    }\n",
    "\n",
    "    public function store(Request $request)\n",
    "    {\n",
    "        $user = new User();\n",
    "        $user->name = $request->input('name');\n",
    "        $user->email = $request->input('email');\n",
    "        $user->password = bcrypt($request->input('password'));\n",
    "        $user->save();\n",
    "\n",
    "        return redirect('/usuarios/' . $user->id);\n",
    "    }\n",
    "}"
   ]
  },
  {
   "cell_type": "markdown",
   "id": "70e88f21",
   "metadata": {},
   "source": [
    "III. **Modelos (Models) y Eloquent ORM:** Laravel incluye Eloquent, un potente y elegante Object-Relational Mapper (ORM) que facilita la interacción con las bases de datos. Los modelos representan tablas en la base de datos y proporcionan métodos intuitivos para consultar y manipular los datos."
   ]
  },
  {
   "cell_type": "code",
   "execution_count": null,
   "id": "f5faaf02",
   "metadata": {
    "vscode": {
     "languageId": "php"
    }
   },
   "outputs": [],
   "source": [
    "namespace App\\Models;\n",
    "\n",
    "use Illuminate\\Database\\Eloquent\\Factories\\HasFactory;\n",
    "use Illuminate\\Database\\Eloquent\\Model;\n",
    "\n",
    "class User extends Model\n",
    "{\n",
    "    use HasFactory;\n",
    "\n",
    "    protected $fillable = ['name', 'email', 'password'];\n",
    "    protected $hidden = ['password', 'remember_token'];\n",
    "    protected $casts = [\n",
    "        'email_verified_at' => 'datetime',\n",
    "    ];\n",
    "\n",
    "    // Definición de relaciones con otras tablas\n",
    "    public function posts()\n",
    "    {\n",
    "        return $this->hasMany(Post::class);\n",
    "    }\n",
    "}"
   ]
  },
  {
   "cell_type": "markdown",
   "id": "ffd58deb",
   "metadata": {},
   "source": [
    "IV. **Vistas (Views) y Blade Templating Engine:** Las vistas son archivos HTML que contienen la presentación de la información al usuario. Laravel utiliza Blade, un motor de plantillas ligero y potente que permite integrar lógica PHP directamente en las vistas de forma segura y legible."
   ]
  },
  {
   "cell_type": "code",
   "execution_count": null,
   "id": "e73877cb",
   "metadata": {
    "vscode": {
     "languageId": "php"
    }
   },
   "outputs": [],
   "source": [
    "<!DOCTYPE html>\n",
    "<html>\n",
    "<head>\n",
    "    <title>Perfil de Usuario</title>\n",
    "</head>\n",
    "<body>\n",
    "    <h1>{{ $user->name }}</h1>\n",
    "    <p>Correo electrónico: {{ $user->email }}</p>\n",
    "\n",
    "    @if (count($user->posts) > 0)\n",
    "        <h2>Publicaciones:</h2>\n",
    "        <ul>\n",
    "            @foreach ($user->posts as $post)\n",
    "                <li>{{ $post->title }}</li>\n",
    "            @endforeach\n",
    "        </ul>\n",
    "    @else\n",
    "        <p>Este usuario no tiene publicaciones.</p>\n",
    "    @endif\n",
    "</body>\n",
    "</html>"
   ]
  },
  {
   "cell_type": "markdown",
   "id": "c77f21bb",
   "metadata": {},
   "source": [
    "V. **Migraciones (Migrations):** Las migraciones son como el control de versiones para la base de datos. Permiten definir y modificar el esquema de la base de datos de forma estructurada y consistente, facilitando el trabajo en equipo y el despliegue en diferentes entornos."
   ]
  },
  {
   "cell_type": "code",
   "execution_count": null,
   "id": "bec5ff2b",
   "metadata": {
    "vscode": {
     "languageId": "php"
    }
   },
   "outputs": [],
   "source": [
    "use Illuminate\\Database\\Migrations\\Migration;\n",
    "use Illuminate\\Database\\Schema\\Blueprint;\n",
    "use Illuminate\\Support\\Facades\\Schema;\n",
    "\n",
    "class CreateUsersTable extends Migration\n",
    "{\n",
    "    public function up()\n",
    "    {\n",
    "        Schema::create('users', function (Blueprint $table) {\n",
    "        $table->id();\n",
    "        $table->string('name');\n",
    "        $table->string('email')->unique();\n",
    "        $table->timestamp('email_verified_at')->nullable();\n",
    "        $table->string('password');\n",
    "        $table->rememberToken();\n",
    "        $table->timestamps();\n",
    "        });\n",
    "    }\n",
    "\n",
    "    public function down()\n",
    "    {\n",
    "        Schema::dropIfExists('users');\n",
    "    }\n",
    "}"
   ]
  },
  {
   "cell_type": "markdown",
   "id": "c59a895a",
   "metadata": {},
   "source": [
    "VI. **Artisan CLI:** Artisan es la potente interfaz de línea de comandos que viene con Laravel. Proporciona una gran cantidad de comandos útiles para tareas comunes como la creación de controladores, modelos, migraciones, la ejecución de pruebas, la gestión de la caché, la generación de claves de aplicación y mucho más."
   ]
  },
  {
   "cell_type": "code",
   "execution_count": null,
   "id": "71e570b4",
   "metadata": {
    "vscode": {
     "languageId": "powershell"
    }
   },
   "outputs": [],
   "source": [
    "php artisan make:controller UserController\n",
    "php artisan make:model Post -m  # Crea un modelo y una migración\n",
    "php artisan migrate\n",
    "php artisan serve       # Inicia el servidor de desarrollo\n",
    "php artisan tinker      # Abre una consola interactiva para interactuar con la aplicación"
   ]
  },
  {
   "cell_type": "markdown",
   "id": "09266c89",
   "metadata": {},
   "source": [
    "VII. **Autenticación y Autorización:** Laravel facilita la implementación de sistemas de autenticación de usuarios (login, registro, recuperación de contraseña) y autorización (gestión de permisos y roles) con comandos y funcionalidades integradas.\n",
    "<br><br>\n",
    "VIII. **Pruebas (Testing):** Laravel pone un fuerte énfasis en las pruebas. Proporciona herramientas y una estructura para escribir pruebas unitarias, pruebas de integración y pruebas de aceptación (end-to-end) para asegurar la calidad y la estabilidad de la aplicación.\n",
    "<br><br>\n",
    "IX. **Seguridad:** Laravel incorpora medidas de seguridad para proteger contra vulnerabilidades comunes, como la protección CSRF habilitada por defecto en los formularios y el escape automático de datos en las plantillas Blade para prevenir ataques XSS.\n",
    "<br><br>\n",
    "X. **Eloquent Factories y Seeders:** Las Factories permiten generar datos de prueba falsos de manera sencilla para poblar la base de datos durante el desarrollo y las pruebas. Los Seeders permiten insertar datos iniciales en la base de datos."
   ]
  },
  {
   "cell_type": "markdown",
   "id": "fbc34491",
   "metadata": {},
   "source": [
    "<hr>"
   ]
  },
  {
   "cell_type": "markdown",
   "id": "dde2ea29",
   "metadata": {},
   "source": [
    "### FLUTTER"
   ]
  },
  {
   "cell_type": "markdown",
   "id": "6b8ac86f",
   "metadata": {},
   "source": [
    "**Flutter** es un **framework de desarrollo de interfaz de usuario (UI)** de código abierto creado por Google. Su objetivo principal es permitir a los desarrolladores construir **aplicaciones nativas de alto rendimiento** para **móvil (iOS y Android), web, escritorio (Windows, macOS, Linux) y entornos embebidos** desde una única base de código. Flutter se distingue por su **renderizado propio**, su enfoque en los widgets, su capacidad de \"**hot reload**\" y su rico conjunto de herramientas y bibliotecas."
   ]
  },
  {
   "cell_type": "markdown",
   "id": "1ba4cb03",
   "metadata": {},
   "source": [
    "#### Pilares fundamentales de Flutter:\n",
    "- **Rendimiento Nativo:** Flutter compila a código de máquina nativo (ARM para móvil, JavaScript/WebAssembly para web, código nativo para escritorio), lo que garantiza un rendimiento excepcional y una experiencia de usuario fluida, similar a las aplicaciones desarrolladas nativamente.\n",
    "<br><br>\n",
    "- **\"Everything is a Widget\":** La arquitectura de Flutter se basa en el concepto de widgets. La interfaz de usuario completa se construye componiendo widgets, desde los más básicos (textos, botones) hasta los más complejos (listas, formularios). Esta filosofía promueve la modularidad y la reutilización de código.\n",
    "<br><br>\n",
    "- **Renderizado Propio (Skia):** En lugar de depender de los widgets nativos de la plataforma, Flutter utiliza su propio motor de renderizado de alto rendimiento llamado Skia. Esto le otorga un control total sobre cada píxel de la pantalla, lo que permite crear interfaces de usuario altamente personalizadas y consistentes en todas las plataformas.\n",
    "<br><br>\n",
    "- **\"Hot Reload\" y \"Hot Restart\":** Estas características revolucionan la experiencia de desarrollo al permitir a los desarrolladores ver los cambios en el código casi instantáneamente (hot reload) o reiniciar la aplicación rápidamente manteniendo su estado (hot restart) sin perder el estado actual. Esto acelera significativamente el proceso de desarrollo y la experimentación con la interfaz de usuario.\n",
    "<br><br>\n",
    "- **Lenguaje de Programación Dart:** Flutter utiliza Dart, un lenguaje de programación moderno, rápido y orientado a objetos también desarrollado por Google. Dart está optimizado para la creación de interfaces de usuario y ofrece características como la compilación AOT (Ahead-of-Time) para rendimiento nativo y JIT (Just-In-Time) para un desarrollo rápido con hot reload.\n",
    "<br><br>\n",
    "- **Gran Ecosistema y Comunidad:** Flutter cuenta con una comunidad activa y en crecimiento que contribuye con paquetes, tutoriales y soporte. Google también invierte fuertemente en el desarrollo y la mejora continua del framework.\n",
    "<br><br>\n",
    "- **Rico Conjunto de Widgets:** Flutter proporciona una amplia biblioteca de widgets preconstruidos que siguen las guías de diseño de Material Design (Google) y Cupertino (Apple), lo que facilita la creación de interfaces de usuario con apariencia nativa en diferentes plataformas. Además, permite la creación de widgets personalizados."
   ]
  },
  {
   "cell_type": "markdown",
   "id": "ada7bbd7",
   "metadata": {},
   "source": [
    "#### Componentes Clave de Flutter:"
   ]
  },
  {
   "cell_type": "markdown",
   "id": "65722852",
   "metadata": {},
   "source": [
    "I. **Widgets:**\n",
    "Los widgets son los bloques de construcción fundamentales de la interfaz de usuario en Flutter. Cada elemento visual (un botón, un texto, una imagen) y cada elemento estructural (una fila, una columna, un contenedor) es un widget.\n",
    "<br>\n",
    "**Widgets con Estado** (<code>StatefulWidget</code>): Son widgets cuyo estado puede cambiar dinámicamente durante la vida útil de la aplicación. Requieren una clase <code>State</code> asociada para gestionar este estado.\n",
    "<br>\n",
    "**Widgets sin Estado** (<code>StatelessWidget</code>): Son widgets cuyo estado es inmutable una vez creados. No tienen una clase <code>State</code>  asociada."
   ]
  },
  {
   "cell_type": "code",
   "execution_count": null,
   "id": "634580c3",
   "metadata": {
    "vscode": {
     "languageId": "dart"
    }
   },
   "outputs": [],
   "source": [
    "// Widget sin estado\n",
    "class TextoSaludo extends StatelessWidget {\n",
    "  final String nombre;\n",
    "\n",
    "  TextoSaludo({required this.nombre});\n",
    "\n",
    "  @override\n",
    "  Widget build(BuildContext context) {\n",
    "    return Text('¡Hola, $nombre!');\n",
    "  }\n",
    "}\n",
    "\n",
    "// Widget con estado\n",
    "class Contador extends StatefulWidget {\n",
    "  @override\n",
    "  _ContadorState createState() => _ContadorState();\n",
    "}\n",
    "\n",
    "class _ContadorState extends State<Contador> {\n",
    "  int _conteo = 0;\n",
    "\n",
    "  void _incrementarConteo() {\n",
    "    setState(() {\n",
    "      _conteo++;\n",
    "    });\n",
    "  }\n",
    "\n",
    "  @override\n",
    "  Widget build(BuildContext context) {\n",
    "    return Column(\n",
    "      children: [\n",
    "        Text('Conteo: $_conteo'),\n",
    "        ElevatedButton(onPressed: _incrementarConteo, child: Text('Incrementar')),\n",
    "      ],\n",
    "    );\n",
    "  }\n",
    "}"
   ]
  },
  {
   "cell_type": "markdown",
   "id": "b2f96fa4",
   "metadata": {},
   "source": [
    "II. **Árbol de Widgets:** La interfaz de usuario de Flutter se describe como un árbol jerárquico de widgets. El framework recorre este árbol para renderizar la pantalla y reaccionar a los eventos.\n",
    "\n",
    "III. **Build Context:** Cada widget tiene un <code>BuildContext</code>, que es un identificador para la ubicación del widget dentro del árbol de widgets. Se utiliza para acceder a información sobre la ubicación del widget y para interactuar con otros widgets en el árbol (por ejemplo, a través de <code>Navigator</code> para la navegación o <code>Theme.of(context)</code> para acceder al tema actual).\n",
    "\n",
    "IV. **Render Tree:** Flutter mantiene un árbol de renderizado separado del árbol de widgets. El árbol de widgets describe la estructura y la configuración de la UI, mientras que el árbol de renderizado contiene los objetos que realmente se dibujan en la pantalla. Flutter optimiza la reconstrucción del árbol de renderizado cuando cambian los widgets.\n",
    "\n",
    "V. **Gestos (Gestures):** Flutter proporciona un sistema robusto para detectar y manejar gestos táctiles como taps, drags, swipes, etc., a través de widgets como <code>GestureDetector</code>.\n",
    "\n",
    "VI. **Animaciones (Animations):** Flutter ofrece un potente sistema de animación que permite crear transiciones fluidas y animaciones complejas. Incluye widgets para animaciones implícitas y explícitas, así como controladores de animación y curvas personalizadas.\n",
    "\n",
    "VII. **Temas (Themes):** Flutter permite definir temas visuales para la aplicación, incluyendo colores, tipografía y estilos de widgets. Esto facilita la creación de interfaces de usuario consistentes y la adaptación a diferentes estilos (Material Design, Cupertino o personalizados).\n",
    "\n",
    "VIII. **Navegación (Navigation):** Flutter proporciona widgets como <code>Navigator</code> para gestionar la navegación entre diferentes pantallas o rutas dentro de la aplicación.\n",
    "\n",
    "IX. **Persistencia de Datos:** Flutter ofrece varias opciones para la persistencia de datos, desde soluciones simples como <code>shared_preferences</code> hasta bases de datos locales como SQLite (a través de paquetes como sqflite) o soluciones más complejas como Firebase.\n",
    "\n",
    "X. **Pruebas (Testing):** Flutter facilita la escritura de diferentes tipos de pruebas: pruebas unitarias para widgets individuales, pruebas de integración para verificar la interacción entre widgets y pruebas de widgets para simular la interacción del usuario con la interfaz."
   ]
  },
  {
   "cell_type": "markdown",
   "id": "7039de3c",
   "metadata": {},
   "source": [
    "#### La Arquitectura de Flutter:\n",
    "La arquitectura de Flutter se puede dividir en tres capas principales:"
   ]
  },
  {
   "cell_type": "markdown",
   "id": "3ef9dae2",
   "metadata": {},
   "source": [
    "I. **Framework:** Esta capa está escrita en Dart y proporciona la mayoría de las funcionalidades que los desarrolladores utilizan directamente, incluyendo:\n",
    "\n",
    "- **Widgets:** La base de la interfaz de usuario.\n",
    "- **Render Tree:** La abstracción para el diseño y la pintura.\n",
    "- **Gestures:** Manejo de interacciones táctiles.\n",
    "- **Animations:** Creación de movimientos y transiciones.\n",
    "- **Painting:** Dibujo de primitivas gráficas.\n",
    "- **Themes:** Definición de estilos visuales.\n",
    "- **Routing:** Gestión de la navegación."
   ]
  },
  {
   "cell_type": "markdown",
   "id": "f910644c",
   "metadata": {},
   "source": [
    "II. **Engine:** Esta capa está escrita principalmente en C++ y es responsable de la renderización de bajo nivel, el manejo de eventos, la comunicación con el sistema operativo subyacente y la gestión de Dart. El motor utiliza la biblioteca gráfica Skia para el renderizado.\n",
    "\n",
    "III. **Embedder:** Esta capa proporciona el punto de entrada para Flutter en cada plataforma específica. Es el código nativo que integra el motor de Flutter con el sistema operativo subyacente (por ejemplo, código Java/Kotlin en Android, Objective-C/Swift en iOS, código HTML/JavaScript en web, código nativo en escritorio).\n",
    "\n"
   ]
  },
  {
   "cell_type": "markdown",
   "id": "f139c320",
   "metadata": {},
   "source": [
    "#### Desarrollo Multiplataforma con Flutter"
   ]
  },
  {
   "cell_type": "markdown",
   "id": "22ee00b1",
   "metadata": {},
   "source": [
    "Una de las mayores ventajas de Flutter es su capacidad para construir aplicaciones para múltiples plataformas desde una única base de código. Si bien no siempre se logra una reutilización del 100% (puede haber adaptaciones específicas para cada plataforma), Flutter reduce significativamente la cantidad de código que se necesita escribir y mantener para llegar a una amplia audiencia.\n",
    "- **Móvil (iOS y Android):** Flutter es su caso de uso más popular y ofrece un rendimiento nativo y una apariencia consistente en ambas plataformas.\n",
    "<br><br>\n",
    "- **Web:** Flutter para web permite construir aplicaciones web interactivas y de alto rendimiento que se ejecutan en el navegador utilizando HTML, CSS y JavaScript (o WebAssembly).\n",
    "<br><br>\n",
    "- **Escritorio (Windows, macOS, Linux):** Flutter también ha madurado significativamente para el desarrollo de aplicaciones de escritorio, ofreciendo acceso a funcionalidades nativas de cada sistema operativo a través de plugins.\n",
    "<br><br>\n",
    "- **Embebidos:** Flutter también se está utilizando en entornos embebidos, como pantallas de automóviles y dispositivos IoT."
   ]
  },
  {
   "cell_type": "markdown",
   "id": "b03d1fab",
   "metadata": {},
   "source": [
    "<hr>"
   ]
  }
 ],
 "metadata": {
  "language_info": {
   "name": "python"
  }
 },
 "nbformat": 4,
 "nbformat_minor": 5
}
